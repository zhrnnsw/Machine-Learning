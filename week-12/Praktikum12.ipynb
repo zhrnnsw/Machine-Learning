{
  "nbformat": 4,
  "nbformat_minor": 0,
  "metadata": {
    "colab": {
      "provenance": [],
      "authorship_tag": "ABX9TyOEqmBXNLZVows0b4deNr+/",
      "include_colab_link": true
    },
    "kernelspec": {
      "name": "python3",
      "display_name": "Python 3"
    },
    "language_info": {
      "name": "python"
    }
  },
  "cells": [
    {
      "cell_type": "markdown",
      "metadata": {
        "id": "view-in-github",
        "colab_type": "text"
      },
      "source": [
        "<a href=\"https://colab.research.google.com/github/zhrnnsw/Machine-Learning/blob/main/week-12/Praktikum12.ipynb\" target=\"_parent\"><img src=\"https://colab.research.google.com/assets/colab-badge.svg\" alt=\"Open In Colab\"/></a>"
      ]
    },
    {
      "cell_type": "markdown",
      "source": [
        "# **Job Sheet 12: Optical Character Recognition (OCR)**\n",
        "---\n",
        ">Zahra Annisa Wahono\n",
        ">\n",
        ">3H/29\n",
        ">\n",
        ">2141720016\n"
      ],
      "metadata": {
        "id": "qs5yz6j2wp4j"
      }
    },
    {
      "cell_type": "code",
      "execution_count": null,
      "metadata": {
        "id": "yhCGm-Xnr4y7"
      },
      "outputs": [],
      "source": []
    }
  ]
}