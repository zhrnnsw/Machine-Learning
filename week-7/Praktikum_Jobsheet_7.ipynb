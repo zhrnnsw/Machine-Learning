{
  "nbformat": 4,
  "nbformat_minor": 0,
  "metadata": {
    "colab": {
      "provenance": [],
      "authorship_tag": "ABX9TyNBMkbf7M1h4mssM+jfFmXT",
      "include_colab_link": true
    },
    "kernelspec": {
      "name": "python3",
      "display_name": "Python 3"
    },
    "language_info": {
      "name": "python"
    }
  },
  "cells": [
    {
      "cell_type": "markdown",
      "metadata": {
        "id": "view-in-github",
        "colab_type": "text"
      },
      "source": [
        "<a href=\"https://colab.research.google.com/github/zhrnnsw/Machine-Learning/blob/main/week-7/Praktikum_Jobsheet_7.ipynb\" target=\"_parent\"><img src=\"https://colab.research.google.com/assets/colab-badge.svg\" alt=\"Open In Colab\"/></a>"
      ]
    },
    {
      "cell_type": "markdown",
      "source": [
        "# **Laporan Praktikum Job Sheet 7 - Clustering**\n",
        "\n",
        "> Nama: Zahra Annisa Wahono\n",
        "\n",
        "> Kelas: TI-3H / 29\n",
        "\n",
        "> NIM: 2141720016"
      ],
      "metadata": {
        "id": "rhf4gVxDuIjf"
      }
    }
  ]
}