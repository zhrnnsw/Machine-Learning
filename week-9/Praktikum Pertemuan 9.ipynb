{
  "nbformat": 4,
  "nbformat_minor": 0,
  "metadata": {
    "colab": {
      "provenance": [],
      "authorship_tag": "ABX9TyNbYXmeKYyl4NEz6/Ag0F5j",
      "include_colab_link": true
    },
    "kernelspec": {
      "name": "python3",
      "display_name": "Python 3"
    },
    "language_info": {
      "name": "python"
    }
  },
  "cells": [
    {
      "cell_type": "markdown",
      "metadata": {
        "id": "view-in-github",
        "colab_type": "text"
      },
      "source": [
        "<a href=\"https://colab.research.google.com/github/zhrnnsw/Machine-Learning/blob/main/week-9/Praktikum%20Pertemuan%209.ipynb\" target=\"_parent\"><img src=\"https://colab.research.google.com/assets/colab-badge.svg\" alt=\"Open In Colab\"/></a>"
      ]
    },
    {
      "cell_type": "markdown",
      "source": [
        "# **Laporan Praktikum Pertemuan 9 - Perceptron dan ANN**\n",
        "---\n",
        "\n",
        "\n",
        "> Nama: Zahra Annisa Wahono\n",
        ">\n",
        "> Kelas: TI-3H / 29\n",
        ">\n",
        "> NIM: 2141720016"
      ],
      "metadata": {
        "id": "lACBwvyMe5Od"
      }
    },
    {
      "cell_type": "markdown",
      "source": [
        "## **Praktikum 1 - Klasifikasi Iris dengan Perceptron**"
      ],
      "metadata": {
        "id": "n3BRrxlqe2Ss"
      }
    },
    {
      "cell_type": "markdown",
      "source": [
        "## **Deskripsi**\n",
        "\n",
        "Pada pratikum ini, Anda diminta untuk melakukan klasifikasi bunga iris dengan menggunakan model Perceptron. Anda dapat menggunakan dataset iris pada praktikum sebelumnya.\n",
        "Untuk nembah pemahaman Anda terkait dengan model Perceptron, pada pratkikum ini Anda akan membuat model Perceptron tanpa menggunakan library."
      ],
      "metadata": {
        "id": "2FOJrO4JpBKN"
      }
    },
    {
      "cell_type": "markdown",
      "source": [
        "### **Langkah 1 - Import Library**"
      ],
      "metadata": {
        "id": "SA4zS-ftfmQy"
      }
    },
    {
      "cell_type": "code",
      "source": [
        "import numpy as np\n",
        "import matplotlib.pyplot as plt\n",
        "import pandas as pd\n",
        "import seaborn as sns"
      ],
      "metadata": {
        "id": "recJzUvSpGfK"
      },
      "execution_count": null,
      "outputs": []
    },
    {
      "cell_type": "markdown",
      "source": [
        "### **Langkah 2 - Load Data dan Visualisasi**"
      ],
      "metadata": {
        "id": "FmuOJrSCf7Y3"
      }
    },
    {
      "cell_type": "code",
      "source": [
        "df = pd.read_csv('iris.csv', header=None)\n",
        "setosa = df[df[4] == 'Iris-setosa']\n",
        "versicolor = df[df[4] == 'Iris-versicolor']\n",
        "virginica = df[df[4] == 'Iris-virginica']\n",
        "\n",
        "a, b = 0, 3\n",
        "plt.scatter(setosa[a], setosa[b], color='red', marker='o', label='setosa')\n",
        "plt.scatter(versicolor[a], versicolor[b], color='blue', marker='x', label='versicolor')\n",
        "\n",
        "plt.xlabel('Petal Length')\n",
        "plt.ylabel('Sepal Length')\n",
        "plt.legend(loc='upper left')\n",
        "plt.grid()\n",
        "plt.show()"
      ],
      "metadata": {
        "colab": {
          "base_uri": "https://localhost:8080/",
          "height": 449
        },
        "id": "tcsNC48OpJaU",
        "outputId": "d2280ec1-e3f0-49c5-dcb6-eadbe08d2362"
      },
      "execution_count": null,
      "outputs": [
        {
          "output_type": "display_data",
          "data": {
            "text/plain": [
              "<Figure size 640x480 with 1 Axes>"
            ],
            "image/png": "[encoded data removed]"
          },
          "metadata": {}
        }
      ]
    },
    {
      "cell_type": "markdown",
      "source": [
        "### **Langkah 3 - Membuat Kelas Perceptron**"
      ],
      "metadata": {
        "id": "8Quw_hBvf-7A"
      }
    },
    {
      "cell_type": "code",
      "source": [
        "class Perceptron(object):\n",
        "    def __init__(self, eta=0.01, n_iter=10):\n",
        "        self.eta = eta\n",
        "        self.n_iter = n_iter\n",
        "\n",
        "    def fit(self, X, y):\n",
        "\n",
        "        self.w_ = np.zeros(1 + X.shape[1])\n",
        "        self.errors_ = []\n",
        "\n",
        "        for _ in range(self.n_iter):\n",
        "            errors = 0\n",
        "            for xi, target in zip(X, y):\n",
        "                update = self.eta * (target - self.predict(xi))\n",
        "                self.w_[0] += update\n",
        "                self.w_[1:] += update * xi\n",
        "                errors += int(update != 0.0)\n",
        "            self.errors_.append(errors)\n",
        "        return self\n",
        "\n",
        "    def net_input(self, X):\n",
        "        return np.dot(X, self.w_[1:]) + self.w_[0]\n",
        "\n",
        "    def predict(self, X):\n",
        "        return np.where(self.net_input(X) >= 0.0, 1, -1)"
      ],
      "metadata": {
        "id": "KCegFYippf97"
      },
      "execution_count": null,
      "outputs": []
    },
    {
      "cell_type": "markdown",
      "source": [
        "### **Langkah 4 - Pilih Data dan Encoding Label**"
      ],
      "metadata": {
        "id": "NwYMUQX0f_B4"
      }
    },
    {
      "cell_type": "code",
      "source": [
        "y = df.iloc[0:100, 4].values # pilih 100 data awal\n",
        "y = np.where(y == 'Iris-setosa', -1, 1) # ganti coding label\n",
        "X = df.iloc[0:100, [0, 3]].values # slice data latih"
      ],
      "metadata": {
        "id": "3N8a3NIFph6a"
      },
      "execution_count": null,
      "outputs": []
    },
    {
      "cell_type": "markdown",
      "source": [
        "### **Langkah 5 - Fitting Model**"
      ],
      "metadata": {
        "id": "PNR7D36Wf_IR"
      }
    },
    {
      "cell_type": "code",
      "source": [
        "ppn = Perceptron(eta=0.1, n_iter=10)\n",
        "ppn.fit(X, y)"
      ],
      "metadata": {
        "colab": {
          "base_uri": "https://localhost:8080/"
        },
        "id": "c5cu8jUDpj-u",
        "outputId": "a62bf12b-23a4-4fe5-8c6e-ec84b632ae57"
      },
      "execution_count": null,
      "outputs": [
        {
          "output_type": "execute_result",
          "data": {
            "text/plain": [
              "<__main__.Perceptron at 0x7ce168502200>"
            ]
          },
          "metadata": {},
          "execution_count": 5
        }
      ]
    },
    {
      "cell_type": "markdown",
      "source": [
        "### **Langkah 6 - Visualisasi Nilai Error Per Epoch**"
      ],
      "metadata": {
        "id": "mAYWukpNf_Pf"
      }
    },
    {
      "cell_type": "code",
      "source": [
        "plt.plot(range(1, len(ppn.errors_)+1), ppn.errors_)\n",
        "plt.xlabel('Epochs')\n",
        "plt.ylabel('Number of updates')\n",
        "plt.show()"
      ],
      "metadata": {
        "colab": {
          "base_uri": "https://localhost:8080/",
          "height": 449
        },
        "id": "tWc7MffEploN",
        "outputId": "fc4d19de-af9b-4f9e-9632-6b6f02df5791"
      },
      "execution_count": null,
      "outputs": [
        {
          "output_type": "display_data",
          "data": {
            "text/plain": [
              "<Figure size 640x480 with 1 Axes>"
            ],
            "image/png": "[encoded data removed]"
          },
          "metadata": {}
        }
      ]
    },
    {
      "cell_type": "markdown",
      "source": [
        "### **Langkah 7 - Visualiasasi Decision Boundary**"
      ],
      "metadata": {
        "id": "VDOIFg-Bf_Vn"
      }
    },
    {
      "cell_type": "code",
      "source": [
        "# buat fungsi untuk plot decision region\n",
        "\n",
        "from matplotlib.colors import ListedColormap\n",
        "\n",
        "def plot_decision_regions(X, y, classifier, resolution=0.02):\n",
        "    # setup marker generator and color map\n",
        "    markers = ('s', 'x', 'o', '^', 'v')\n",
        "    colors = ('r', 'b', 'g', 'k', 'grey')\n",
        "    cmap = ListedColormap(colors[:len(np.unique(y))])\n",
        "\n",
        "    # plot the decision regions by creating a pair of grid arrays xx1 and xx2 via meshgrid function in Numpy\n",
        "    x1_min, x1_max = X[:, 0].min() - 1, X[:, 0].max() + 1\n",
        "    x2_min, x2_max = X[:, 1].min() - 1, X[:, 1].max() + 1\n",
        "    xx1, xx2 = np.meshgrid(np.arange(x1_min, x1_max, resolution), np.arange(x2_min, x2_max, resolution))\n",
        "\n",
        "    # use predict method to predict the class labels z of the grid points\n",
        "    Z = classifier.predict(np.array([xx1.ravel(),xx2.ravel()]).T)\n",
        "    Z = Z.reshape(xx1.shape)\n",
        "\n",
        "    # draw the contour using matplotlib\n",
        "    plt.contourf(xx1, xx2, Z, alpha=0.4, cmap=cmap)\n",
        "    plt.xlim(xx1.min(), xx1.max())\n",
        "    plt.ylim(xx2.min(), xx2.max())\n",
        "\n",
        "    # plot class samples\n",
        "    for i, cl in enumerate(np.unique(y)):\n",
        "        plt.scatter(x=X[y==cl, 0], y=X[y==cl, 1], alpha=0.8, c=cmap(i), marker=markers[i], label=cl)"
      ],
      "metadata": {
        "id": "Chee32TepnCD"
      },
      "execution_count": null,
      "outputs": []
    },
    {
      "cell_type": "markdown",
      "source": [
        "## **Praktikum 2 - Klasifikasi Berita dengan Perceptron**"
      ],
      "metadata": {
        "id": "aRza3Jt3mNML"
      }
    },
    {
      "cell_type": "markdown",
      "source": [
        "**Deskripsi**\n",
        "\n",
        "Dalam kasus ini, Anda akan melakukan klasifiaksi berita berdasarkan 3 kategori, yaitu Sport Hockey, Sport Baseball, dan Otomotif. Proses klasifikasi akan menggunakan model Perceptron."
      ],
      "metadata": {
        "id": "5I-nd9UVqZ91"
      }
    },
    {
      "cell_type": "markdown",
      "source": [
        "### **Langkah 1 - Import Library**"
      ],
      "metadata": {
        "id": "KiM83e7kmNML"
      }
    },
    {
      "cell_type": "code",
      "source": [
        "from sklearn.datasets import fetch_20newsgroups # download dataset\n",
        "from sklearn.feature_extraction.text import TfidfVectorizer\n",
        "from sklearn.linear_model import Perceptron\n",
        "from sklearn.metrics import f1_score, classification_report"
      ],
      "metadata": {
        "id": "z7GEylwZqEyM"
      },
      "execution_count": null,
      "outputs": []
    },
    {
      "cell_type": "markdown",
      "source": [
        "### **Langkah 2 - Pilih Label dan Split Data**"
      ],
      "metadata": {
        "id": "UiKE4JjImNML"
      }
    },
    {
      "cell_type": "code",
      "source": [
        "categories = ['rec.sport.hockey', 'rec.sport.baseball', 'rec.autos']\n",
        "newsgroups_train = fetch_20newsgroups(subset='train', categories=categories, remove=('headers', 'footers', 'quotes'))\n",
        "newsgroups_test = fetch_20newsgroups(subset='test', categories=categories, remove=('headers', 'footers', 'quotes'))"
      ],
      "metadata": {
        "id": "4qN74KiuqGeA"
      },
      "execution_count": null,
      "outputs": []
    },
    {
      "cell_type": "markdown",
      "source": [
        "### **Langkah 3 - Ekstrak Fitur dan Buat Model Perceptron**"
      ],
      "metadata": {
        "id": "Imb_i1cCmNMM"
      }
    },
    {
      "cell_type": "code",
      "source": [
        "# Ekstrak Fitur\n",
        "vectorizer = TfidfVectorizer()\n",
        "\n",
        "# Fit fitur\n",
        "X_train = vectorizer.fit_transform(newsgroups_train.data)\n",
        "X_test = vectorizer.transform(newsgroups_test.data)\n",
        "\n",
        "# Fit Model\n",
        "clf = Perceptron(random_state=11)\n",
        "clf.fit(X_train, newsgroups_train.target)\n",
        "\n",
        "# Prediksi\n",
        "predictions = clf.predict(X_test)\n",
        "print(classification_report(newsgroups_test.target, predictions))"
      ],
      "metadata": {
        "colab": {
          "base_uri": "https://localhost:8080/"
        },
        "id": "x0cigtJnqITY",
        "outputId": "65352796-aa04-422a-d776-52ab8be5d073"
      },
      "execution_count": null,
      "outputs": [
        {
          "output_type": "stream",
          "name": "stdout",
          "text": [
            "              precision    recall  f1-score   support\n",
            "\n",
            "           0       0.88      0.88      0.88       396\n",
            "           1       0.82      0.83      0.83       397\n",
            "           2       0.88      0.87      0.87       399\n",
            "\n",
            "    accuracy                           0.86      1192\n",
            "   macro avg       0.86      0.86      0.86      1192\n",
            "weighted avg       0.86      0.86      0.86      1192\n",
            "\n"
          ]
        }
      ]
    },
    {
      "cell_type": "markdown",
      "source": [
        "Penjelasan\n",
        "\n",
        "Dataset yang digunakan pada kode program diatas adalah 20newsgroup yang terdiri dari sekitar 20.000 dokumen. Scikit-learn bahkan menyediakan fungsi yang memberikan kemudahan untuk mengunduh dan membaca kumpulan dataset dengan menggunakan sklearn.datasets. pada kode program diatas Perceptron mampu melakukan klasifikasi multikelas; strategi yang digunakan adalah one-versus-all untuk melakukan pelatihan untuk setiap kelas dalam data training. Dokumen teks memerlukan ekstraksi fitur salah satunya adalah bobot tf-idf pada kodeprogram diatas digunakan tfidf-vectorizer."
      ],
      "metadata": {
        "id": "QST-jhSBqLge"
      }
    },
    {
      "cell_type": "markdown",
      "source": [
        "## **Praktikum 3 - Nilai Logika XOR dengan MLP**"
      ],
      "metadata": {
        "id": "gvFmILKinB_Y"
      }
    },
    {
      "cell_type": "markdown",
      "source": [
        "**Deskripsi**\n",
        "\n",
        "Pada kasus sederhana ini, Anda akan menggunakan MLP untuk mendapatkan nilai biner yang dioperasikan dengan logika XOR. Perlu diingat bahwa nilai XOR berbeda dengan OR, XOR hanya akan bernilai benar jika salah satu nilai yang benar, bukan keduanya atau tidak sama sekali."
      ],
      "metadata": {
        "id": "6bzpYEjfqw64"
      }
    },
    {
      "cell_type": "markdown",
      "source": [
        "### **Langkah 1 - Import Library**"
      ],
      "metadata": {
        "id": "Lss_CpaHnB_Z"
      }
    },
    {
      "cell_type": "code",
      "source": [
        "from sklearn.neural_network import MLPClassifier"
      ],
      "metadata": {
        "id": "nFcKK4_JqzxJ"
      },
      "execution_count": null,
      "outputs": []
    },
    {
      "cell_type": "markdown",
      "source": [
        "### **Langkah 2 - Buat Data**"
      ],
      "metadata": {
        "id": "Gclsi1mAmkiJ"
      }
    },
    {
      "cell_type": "code",
      "source": [
        "y = [0, 1, 1, 0] # label\n",
        "X = [[0, 0], [0, 1], [1, 0], [1, 1]] # data"
      ],
      "metadata": {
        "id": "qorntiQbq1ID"
      },
      "execution_count": null,
      "outputs": []
    },
    {
      "cell_type": "markdown",
      "source": [
        "### **Langkah 3 - Fit Model**"
      ],
      "metadata": {
        "id": "tZ5dg3XUmkiM"
      }
    },
    {
      "cell_type": "code",
      "source": [
        "# Fit model\n",
        "clf = MLPClassifier(solver='lbfgs', activation='logistic', hidden_layer_sizes=(2,), max_iter=100, random_state=20)\n",
        "clf.fit(X, y)"
      ],
      "metadata": {
        "colab": {
          "base_uri": "https://localhost:8080/",
          "height": 92
        },
        "id": "9iNwa4aMq4NT",
        "outputId": "fc1d3eda-01e0-48bf-96e9-f5bdc8909bdc"
      },
      "execution_count": null,
      "outputs": [
        {
          "output_type": "execute_result",
          "data": {
            "text/plain": [
              "MLPClassifier(activation='logistic', hidden_layer_sizes=(2,), max_iter=100,\n",
              "              random_state=20, solver='lbfgs')"
            ],
            "text/html": [
              "<style>#sk-container-id-1 {color: black;background-color: white;}#sk-container-id-1 pre{padding: 0;}#sk-container-id-1 div.sk-toggleable {background-color: white;}#sk-container-id-1 label.sk-toggleable__label {cursor: pointer;display: block;width: 100%;margin-bottom: 0;padding: 0.3em;box-sizing: border-box;text-align: center;}#sk-container-id-1 label.sk-toggleable__label-arrow:before {content: \"▸\";float: left;margin-right: 0.25em;color: #696969;}#sk-container-id-1 label.sk-toggleable__label-arrow:hover:before {color: black;}#sk-container-id-1 div.sk-estimator:hover label.sk-toggleable__label-arrow:before {color: black;}#sk-container-id-1 div.sk-toggleable__content {max-height: 0;max-width: 0;overflow: hidden;text-align: left;background-color: #f0f8ff;}#sk-container-id-1 div.sk-toggleable__content pre {margin: 0.2em;color: black;border-radius: 0.25em;background-color: #f0f8ff;}#sk-container-id-1 input.sk-toggleable__control:checked~div.sk-toggleable__content {max-height: 200px;max-width: 100%;overflow: auto;}#sk-container-id-1 input.sk-toggleable__control:checked~label.sk-toggleable__label-arrow:before {content: \"▾\";}#sk-container-id-1 div.sk-estimator input.sk-toggleable__control:checked~label.sk-toggleable__label {background-color: #d4ebff;}#sk-container-id-1 div.sk-label input.sk-toggleable__control:checked~label.sk-toggleable__label {background-color: #d4ebff;}#sk-container-id-1 input.sk-hidden--visually {border: 0;clip: rect(1px 1px 1px 1px);clip: rect(1px, 1px, 1px, 1px);height: 1px;margin: -1px;overflow: hidden;padding: 0;position: absolute;width: 1px;}#sk-container-id-1 div.sk-estimator {font-family: monospace;background-color: #f0f8ff;border: 1px dotted black;border-radius: 0.25em;box-sizing: border-box;margin-bottom: 0.5em;}#sk-container-id-1 div.sk-estimator:hover {background-color: #d4ebff;}#sk-container-id-1 div.sk-parallel-item::after {content: \"\";width: 100%;border-bottom: 1px solid gray;flex-grow: 1;}#sk-container-id-1 div.sk-label:hover label.sk-toggleable__label {background-color: #d4ebff;}#sk-container-id-1 div.sk-serial::before {content: \"\";position: absolute;border-left: 1px solid gray;box-sizing: border-box;top: 0;bottom: 0;left: 50%;z-index: 0;}#sk-container-id-1 div.sk-serial {display: flex;flex-direction: column;align-items: center;background-color: white;padding-right: 0.2em;padding-left: 0.2em;position: relative;}#sk-container-id-1 div.sk-item {position: relative;z-index: 1;}#sk-container-id-1 div.sk-parallel {display: flex;align-items: stretch;justify-content: center;background-color: white;position: relative;}#sk-container-id-1 div.sk-item::before, #sk-container-id-1 div.sk-parallel-item::before {content: \"\";position: absolute;border-left: 1px solid gray;box-sizing: border-box;top: 0;bottom: 0;left: 50%;z-index: -1;}#sk-container-id-1 div.sk-parallel-item {display: flex;flex-direction: column;z-index: 1;position: relative;background-color: white;}#sk-container-id-1 div.sk-parallel-item:first-child::after {align-self: flex-end;width: 50%;}#sk-container-id-1 div.sk-parallel-item:last-child::after {align-self: flex-start;width: 50%;}#sk-container-id-1 div.sk-parallel-item:only-child::after {width: 0;}#sk-container-id-1 div.sk-dashed-wrapped {border: 1px dashed gray;margin: 0 0.4em 0.5em 0.4em;box-sizing: border-box;padding-bottom: 0.4em;background-color: white;}#sk-container-id-1 div.sk-label label {font-family: monospace;font-weight: bold;display: inline-block;line-height: 1.2em;}#sk-container-id-1 div.sk-label-container {text-align: center;}#sk-container-id-1 div.sk-container {/* jupyter's `normalize.less` sets `[hidden] { display: none; }` but bootstrap.min.css set `[hidden] { display: none !important; }` so we also need the `!important` here to be able to override the default hidden behavior on the sphinx rendered scikit-learn.org. See: https://github.com/scikit-learn/scikit-learn/issues/21755 */display: inline-block !important;position: relative;}#sk-container-id-1 div.sk-text-repr-fallback {display: none;}</style><div id=\"sk-container-id-1\" class=\"sk-top-container\"><div class=\"sk-text-repr-fallback\"><pre>MLPClassifier(activation=&#x27;logistic&#x27;, hidden_layer_sizes=(2,), max_iter=100,\n",
              "              random_state=20, solver=&#x27;lbfgs&#x27;)</pre><b>In a Jupyter environment, please rerun this cell to show the HTML representation or trust the notebook. <br />On GitHub, the HTML representation is unable to render, please try loading this page with nbviewer.org.</b></div><div class=\"sk-container\" hidden><div class=\"sk-item\"><div class=\"sk-estimator sk-toggleable\"><input class=\"sk-toggleable__control sk-hidden--visually\" id=\"sk-estimator-id-1\" type=\"checkbox\" checked><label for=\"sk-estimator-id-1\" class=\"sk-toggleable__label sk-toggleable__label-arrow\">MLPClassifier</label><div class=\"sk-toggleable__content\"><pre>MLPClassifier(activation=&#x27;logistic&#x27;, hidden_layer_sizes=(2,), max_iter=100,\n",
              "              random_state=20, solver=&#x27;lbfgs&#x27;)</pre></div></div></div></div></div>"
            ]
          },
          "metadata": {},
          "execution_count": 13
        }
      ]
    },
    {
      "cell_type": "markdown",
      "source": [
        "### **Langkah 4 - Prediksi**"
      ],
      "metadata": {
        "id": "eMokn8JNmw9Y"
      }
    },
    {
      "cell_type": "code",
      "source": [
        "pred = clf.predict(X)\n",
        "print('Accuracy: %s' % clf.score(X, y))\n",
        "for i,p in enumerate(pred[:10]):\n",
        "    print('True: %s, Predicted: %s' % (y[i], p))"
      ],
      "metadata": {
        "colab": {
          "base_uri": "https://localhost:8080/"
        },
        "id": "EKDrvtUsq54l",
        "outputId": "6c1b3f21-1963-421b-a207-61341cf36aad"
      },
      "execution_count": null,
      "outputs": [
        {
          "output_type": "stream",
          "name": "stdout",
          "text": [
            "Accuracy: 1.0\n",
            "True: 0, Predicted: 0\n",
            "True: 1, Predicted: 1\n",
            "True: 1, Predicted: 1\n",
            "True: 0, Predicted: 0\n"
          ]
        }
      ]
    },
    {
      "cell_type": "markdown",
      "source": [
        "## **Praktikum 4 - Klasifikasi dengan ANN**"
      ],
      "metadata": {
        "id": "kqNX30qNmkiH"
      }
    },
    {
      "cell_type": "markdown",
      "source": [
        "### **Pra Pengolahan Data**"
      ],
      "metadata": {
        "id": "9x3MUZvFmkiI"
      }
    },
    {
      "cell_type": "markdown",
      "source": [
        "**Langkah 1 - Import Library**"
      ],
      "metadata": {
        "id": "dIcAsMf3nwmy"
      }
    },
    {
      "cell_type": "code",
      "source": [
        "import numpy as np\n",
        "import pandas as pd\n",
        "import tensorflow as tf"
      ],
      "metadata": {
        "id": "0Rj42vbbrGs3"
      },
      "execution_count": null,
      "outputs": []
    },
    {
      "cell_type": "markdown",
      "source": [
        "**Langkah 2 - Load Data**"
      ],
      "metadata": {
        "id": "mVIUDIe1n2mi"
      }
    },
    {
      "cell_type": "code",
      "source": [
        "dataset = pd.read_csv('Churn_Modelling.csv')\n",
        "X = dataset.iloc[:, 3:-1].values\n",
        "y = dataset.iloc[:, -1].values"
      ],
      "metadata": {
        "id": "Epq3agNPrIio"
      },
      "execution_count": null,
      "outputs": []
    },
    {
      "cell_type": "code",
      "source": [
        "print(X)"
      ],
      "metadata": {
        "colab": {
          "base_uri": "https://localhost:8080/"
        },
        "id": "5slI9T8grKH_",
        "outputId": "e7c3d534-293f-45e2-e64b-b9f16fd17f35"
      },
      "execution_count": null,
      "outputs": [
        {
          "output_type": "stream",
          "name": "stdout",
          "text": [
            "[[619 'France' 'Female' ... 1 1 101348.88]\n",
            " [608 'Spain' 'Female' ... 0 1 112542.58]\n",
            " [502 'France' 'Female' ... 1 0 113931.57]\n",
            " ...\n",
            " [709 'France' 'Female' ... 0 1 42085.58]\n",
            " [772 'Germany' 'Male' ... 1 0 92888.52]\n",
            " [792 'France' 'Female' ... 1 0 38190.78]]\n"
          ]
        }
      ]
    },
    {
      "cell_type": "markdown",
      "source": [
        "**Langkah 3 - Encoding Data Kategorikal**"
      ],
      "metadata": {
        "id": "PAh3u1r1n3If"
      }
    },
    {
      "cell_type": "code",
      "source": [
        "from sklearn.preprocessing import LabelEncoder\n",
        "le = LabelEncoder()\n",
        "X[:, 2] = le.fit_transform(X[:, 2])"
      ],
      "metadata": {
        "id": "rRZXIXzqrScv"
      },
      "execution_count": null,
      "outputs": []
    },
    {
      "cell_type": "markdown",
      "source": [
        "**Langkah 4 - Encoding Kolom \"Geography\" dengan One Hot Encoder**"
      ],
      "metadata": {
        "id": "V-48zCOSn3Pf"
      }
    },
    {
      "cell_type": "code",
      "source": [
        "from sklearn.compose import ColumnTransformer\n",
        "from sklearn.preprocessing import OneHotEncoder\n",
        "ct = ColumnTransformer(transformers=[('encoder', OneHotEncoder(), [1])], remainder='passthrough')\n",
        "X = np.array(ct.fit_transform(X))"
      ],
      "metadata": {
        "id": "dRGr16l6rV6n"
      },
      "execution_count": null,
      "outputs": []
    },
    {
      "cell_type": "markdown",
      "source": [
        "**Langkah 5 - Split Data**"
      ],
      "metadata": {
        "id": "Pilw79E3n3gI"
      }
    },
    {
      "cell_type": "code",
      "source": [
        "from sklearn.model_selection import train_test_split\n",
        "X_train, X_test, y_train, y_test = train_test_split(X, y, test_size = 0.2, random_state = 0)"
      ],
      "metadata": {
        "id": "phN2OfDerbe8"
      },
      "execution_count": null,
      "outputs": []
    },
    {
      "cell_type": "markdown",
      "source": [
        "**Langkah 6 - Scaling Fitur**"
      ],
      "metadata": {
        "id": "BODFPfnvn3rR"
      }
    },
    {
      "cell_type": "code",
      "source": [
        "from sklearn.preprocessing import StandardScaler\n",
        "sc = StandardScaler()\n",
        "X_train = sc.fit_transform(X_train)\n",
        "X_test = sc.transform(X_test)"
      ],
      "metadata": {
        "id": "LLQMlENPrdGJ"
      },
      "execution_count": null,
      "outputs": []
    },
    {
      "cell_type": "markdown",
      "source": [
        "### **Membuat Model ANN**"
      ],
      "metadata": {
        "id": "CN-Z70hfnREC"
      }
    },
    {
      "cell_type": "markdown",
      "source": [
        "**Langkah 1 - Inisiasi Model ANN**"
      ],
      "metadata": {
        "id": "JsBex6s9oInh"
      }
    },
    {
      "cell_type": "code",
      "source": [
        "ann = tf.keras.models.Sequential()"
      ],
      "metadata": {
        "id": "o7cL7NC2rfsg"
      },
      "execution_count": null,
      "outputs": []
    },
    {
      "cell_type": "markdown",
      "source": [
        "**Langkah 2 - Membuat Input Layer dan Hidden Layer Pertama**"
      ],
      "metadata": {
        "id": "JISBVBQJoIni"
      }
    },
    {
      "cell_type": "code",
      "source": [
        "ann.add(tf.keras.layers.Dense(units=6, activation='relu'))"
      ],
      "metadata": {
        "id": "N3EvxfXdrhQ1"
      },
      "execution_count": null,
      "outputs": []
    },
    {
      "cell_type": "markdown",
      "source": [
        "**Langkah 3 - Membuat Hidden Layer Kedua**"
      ],
      "metadata": {
        "id": "08Yq6LwMoInj"
      }
    },
    {
      "cell_type": "code",
      "source": [
        "ann.add(tf.keras.layers.Dense(units=6, activation='relu'))"
      ],
      "metadata": {
        "id": "8lvBGudLriOQ"
      },
      "execution_count": null,
      "outputs": []
    },
    {
      "cell_type": "markdown",
      "source": [
        "**Langkah 4 - Membuat Output Layer**"
      ],
      "metadata": {
        "id": "mcWfQSNUoInj"
      }
    },
    {
      "cell_type": "code",
      "source": [
        "ann.add(tf.keras.layers.Dense(units=1, activation='sigmoid'))"
      ],
      "metadata": {
        "id": "ruG71cqCrp8T"
      },
      "execution_count": null,
      "outputs": []
    },
    {
      "cell_type": "markdown",
      "source": [
        "### **Training Model**"
      ],
      "metadata": {
        "id": "OS_k2WbDnTum"
      }
    },
    {
      "cell_type": "markdown",
      "source": [
        "**Langkah 1 - Compile Model (Menyatukan Arsitektur) ANN**"
      ],
      "metadata": {
        "id": "ylYut5BboZRy"
      }
    },
    {
      "cell_type": "code",
      "source": [
        "ann.compile(optimizer = 'adam', loss = 'binary_crossentropy', metrics = ['accuracy'])"
      ],
      "metadata": {
        "id": "-kJWus1Srr2t"
      },
      "execution_count": null,
      "outputs": []
    },
    {
      "cell_type": "markdown",
      "source": [
        "**Langkah 2 - Fitting Model**"
      ],
      "metadata": {
        "id": "QdZfXWvDoZRy"
      }
    },
    {
      "cell_type": "code",
      "source": [
        "ann.fit(X_train, y_train, batch_size = 32, epochs = 100)"
      ],
      "metadata": {
        "colab": {
          "base_uri": "https://localhost:8080/"
        },
        "id": "FOobg2rzrtLS",
        "outputId": "79564c68-eee4-4220-936d-aa6dd83ea0b6"
      },
      "execution_count": null,
      "outputs": [
        {
          "output_type": "stream",
          "name": "stdout",
          "text": [
            "Epoch 1/100\n",
            "250/250 [==============================] - 2s 2ms/step - loss: 0.5350 - accuracy: 0.7670\n",
            "Epoch 2/100\n",
            "250/250 [==============================] - 0s 2ms/step - loss: 0.4779 - accuracy: 0.7997\n",
            "Epoch 3/100\n",
            "250/250 [==============================] - 0s 2ms/step - loss: 0.4566 - accuracy: 0.8048\n",
            "Epoch 4/100\n",
            "250/250 [==============================] - 0s 2ms/step - loss: 0.4457 - accuracy: 0.8073\n",
            "Epoch 5/100\n",
            "250/250 [==============================] - 1s 2ms/step - loss: 0.4395 - accuracy: 0.8083\n",
            "Epoch 6/100\n",
            "250/250 [==============================] - 0s 2ms/step - loss: 0.4354 - accuracy: 0.8092\n",
            "Epoch 7/100\n",
            "250/250 [==============================] - 0s 2ms/step - loss: 0.4310 - accuracy: 0.8104\n",
            "Epoch 8/100\n",
            "250/250 [==============================] - 0s 2ms/step - loss: 0.4269 - accuracy: 0.8124\n",
            "Epoch 9/100\n",
            "250/250 [==============================] - 0s 2ms/step - loss: 0.4227 - accuracy: 0.8149\n",
            "Epoch 10/100\n",
            "250/250 [==============================] - 0s 2ms/step - loss: 0.4178 - accuracy: 0.8190\n",
            "Epoch 11/100\n",
            "250/250 [==============================] - 0s 2ms/step - loss: 0.4119 - accuracy: 0.8226\n",
            "Epoch 12/100\n",
            "250/250 [==============================] - 0s 2ms/step - loss: 0.4071 - accuracy: 0.8244\n",
            "Epoch 13/100\n",
            "250/250 [==============================] - 0s 2ms/step - loss: 0.4021 - accuracy: 0.8267\n",
            "Epoch 14/100\n",
            "250/250 [==============================] - 0s 2ms/step - loss: 0.3966 - accuracy: 0.8294\n",
            "Epoch 15/100\n",
            "250/250 [==============================] - 0s 2ms/step - loss: 0.3923 - accuracy: 0.8334\n",
            "Epoch 16/100\n",
            "250/250 [==============================] - 0s 2ms/step - loss: 0.3877 - accuracy: 0.8344\n",
            "Epoch 17/100\n",
            "250/250 [==============================] - 0s 2ms/step - loss: 0.3838 - accuracy: 0.8364\n",
            "Epoch 18/100\n",
            "250/250 [==============================] - 0s 2ms/step - loss: 0.3797 - accuracy: 0.8364\n",
            "Epoch 19/100\n",
            "250/250 [==============================] - 0s 2ms/step - loss: 0.3746 - accuracy: 0.8385\n",
            "Epoch 20/100\n",
            "250/250 [==============================] - 0s 2ms/step - loss: 0.3699 - accuracy: 0.8421\n",
            "Epoch 21/100\n",
            "250/250 [==============================] - 0s 2ms/step - loss: 0.3658 - accuracy: 0.8447\n",
            "Epoch 22/100\n",
            "250/250 [==============================] - 1s 2ms/step - loss: 0.3622 - accuracy: 0.8469\n",
            "Epoch 23/100\n",
            "250/250 [==============================] - 1s 3ms/step - loss: 0.3584 - accuracy: 0.8495\n",
            "Epoch 24/100\n",
            "250/250 [==============================] - 1s 3ms/step - loss: 0.3550 - accuracy: 0.8536\n",
            "Epoch 25/100\n",
            "250/250 [==============================] - 1s 3ms/step - loss: 0.3515 - accuracy: 0.8575\n",
            "Epoch 26/100\n",
            "250/250 [==============================] - 1s 2ms/step - loss: 0.3497 - accuracy: 0.8559\n",
            "Epoch 27/100\n",
            "250/250 [==============================] - 0s 2ms/step - loss: 0.3471 - accuracy: 0.8581\n",
            "Epoch 28/100\n",
            "250/250 [==============================] - 0s 2ms/step - loss: 0.3452 - accuracy: 0.8566\n",
            "Epoch 29/100\n",
            "250/250 [==============================] - 0s 2ms/step - loss: 0.3436 - accuracy: 0.8576\n",
            "Epoch 30/100\n",
            "250/250 [==============================] - 0s 2ms/step - loss: 0.3423 - accuracy: 0.8585\n",
            "Epoch 31/100\n",
            "250/250 [==============================] - 0s 2ms/step - loss: 0.3414 - accuracy: 0.8591\n",
            "Epoch 32/100\n",
            "250/250 [==============================] - 0s 2ms/step - loss: 0.3404 - accuracy: 0.8606\n",
            "Epoch 33/100\n",
            "250/250 [==============================] - 0s 2ms/step - loss: 0.3395 - accuracy: 0.8610\n",
            "Epoch 34/100\n",
            "250/250 [==============================] - 0s 2ms/step - loss: 0.3390 - accuracy: 0.8611\n",
            "Epoch 35/100\n",
            "250/250 [==============================] - 0s 2ms/step - loss: 0.3384 - accuracy: 0.8602\n",
            "Epoch 36/100\n",
            "250/250 [==============================] - 0s 2ms/step - loss: 0.3382 - accuracy: 0.8627\n",
            "Epoch 37/100\n",
            "250/250 [==============================] - 0s 2ms/step - loss: 0.3377 - accuracy: 0.8619\n",
            "Epoch 38/100\n",
            "250/250 [==============================] - 0s 2ms/step - loss: 0.3370 - accuracy: 0.8615\n",
            "Epoch 39/100\n",
            "250/250 [==============================] - 0s 2ms/step - loss: 0.3369 - accuracy: 0.8627\n",
            "Epoch 40/100\n",
            "250/250 [==============================] - 0s 2ms/step - loss: 0.3361 - accuracy: 0.8635\n",
            "Epoch 41/100\n",
            "250/250 [==============================] - 0s 2ms/step - loss: 0.3362 - accuracy: 0.8618\n",
            "Epoch 42/100\n",
            "250/250 [==============================] - 0s 2ms/step - loss: 0.3360 - accuracy: 0.8626\n",
            "Epoch 43/100\n",
            "250/250 [==============================] - 0s 2ms/step - loss: 0.3357 - accuracy: 0.8610\n",
            "Epoch 44/100\n",
            "250/250 [==============================] - 0s 2ms/step - loss: 0.3352 - accuracy: 0.8620\n",
            "Epoch 45/100\n",
            "250/250 [==============================] - 0s 2ms/step - loss: 0.3351 - accuracy: 0.8614\n",
            "Epoch 46/100\n",
            "250/250 [==============================] - 0s 2ms/step - loss: 0.3347 - accuracy: 0.8616\n",
            "Epoch 47/100\n",
            "250/250 [==============================] - 0s 2ms/step - loss: 0.3348 - accuracy: 0.8618\n",
            "Epoch 48/100\n",
            "250/250 [==============================] - 1s 2ms/step - loss: 0.3346 - accuracy: 0.8618\n",
            "Epoch 49/100\n",
            "250/250 [==============================] - 1s 3ms/step - loss: 0.3345 - accuracy: 0.8626\n",
            "Epoch 50/100\n",
            "250/250 [==============================] - 1s 3ms/step - loss: 0.3344 - accuracy: 0.8634\n",
            "Epoch 51/100\n",
            "250/250 [==============================] - 1s 3ms/step - loss: 0.3341 - accuracy: 0.8618\n",
            "Epoch 52/100\n",
            "250/250 [==============================] - 1s 3ms/step - loss: 0.3340 - accuracy: 0.8631\n",
            "Epoch 53/100\n",
            "250/250 [==============================] - 0s 2ms/step - loss: 0.3338 - accuracy: 0.8614\n",
            "Epoch 54/100\n",
            "250/250 [==============================] - 0s 2ms/step - loss: 0.3333 - accuracy: 0.8625\n",
            "Epoch 55/100\n",
            "250/250 [==============================] - 0s 2ms/step - loss: 0.3332 - accuracy: 0.8625\n",
            "Epoch 56/100\n",
            "250/250 [==============================] - 0s 2ms/step - loss: 0.3332 - accuracy: 0.8624\n",
            "Epoch 57/100\n",
            "250/250 [==============================] - 0s 2ms/step - loss: 0.3330 - accuracy: 0.8622\n",
            "Epoch 58/100\n",
            "250/250 [==============================] - 0s 2ms/step - loss: 0.3327 - accuracy: 0.8612\n",
            "Epoch 59/100\n",
            "250/250 [==============================] - 0s 2ms/step - loss: 0.3329 - accuracy: 0.8634\n",
            "Epoch 60/100\n",
            "250/250 [==============================] - 0s 2ms/step - loss: 0.3329 - accuracy: 0.8624\n",
            "Epoch 61/100\n",
            "250/250 [==============================] - 0s 2ms/step - loss: 0.3327 - accuracy: 0.8616\n",
            "Epoch 62/100\n",
            "250/250 [==============================] - 0s 2ms/step - loss: 0.3327 - accuracy: 0.8630\n",
            "Epoch 63/100\n",
            "250/250 [==============================] - 0s 2ms/step - loss: 0.3323 - accuracy: 0.8633\n",
            "Epoch 64/100\n",
            "250/250 [==============================] - 0s 2ms/step - loss: 0.3321 - accuracy: 0.8626\n",
            "Epoch 65/100\n",
            "250/250 [==============================] - 0s 2ms/step - loss: 0.3320 - accuracy: 0.8637\n",
            "Epoch 66/100\n",
            "250/250 [==============================] - 0s 2ms/step - loss: 0.3318 - accuracy: 0.8626\n",
            "Epoch 67/100\n",
            "250/250 [==============================] - 0s 2ms/step - loss: 0.3314 - accuracy: 0.8624\n",
            "Epoch 68/100\n",
            "250/250 [==============================] - 0s 2ms/step - loss: 0.3319 - accuracy: 0.8627\n",
            "Epoch 69/100\n",
            "250/250 [==============================] - 0s 2ms/step - loss: 0.3319 - accuracy: 0.8640\n",
            "Epoch 70/100\n",
            "250/250 [==============================] - 0s 2ms/step - loss: 0.3316 - accuracy: 0.8625\n",
            "Epoch 71/100\n",
            "250/250 [==============================] - 0s 2ms/step - loss: 0.3318 - accuracy: 0.8630\n",
            "Epoch 72/100\n",
            "250/250 [==============================] - 1s 3ms/step - loss: 0.3317 - accuracy: 0.8633\n",
            "Epoch 73/100\n",
            "250/250 [==============================] - 1s 2ms/step - loss: 0.3316 - accuracy: 0.8630\n",
            "Epoch 74/100\n",
            "250/250 [==============================] - 1s 4ms/step - loss: 0.3311 - accuracy: 0.8641\n",
            "Epoch 75/100\n",
            "250/250 [==============================] - 1s 3ms/step - loss: 0.3318 - accuracy: 0.8634\n",
            "Epoch 76/100\n",
            "250/250 [==============================] - 1s 3ms/step - loss: 0.3319 - accuracy: 0.8631\n",
            "Epoch 77/100\n",
            "250/250 [==============================] - 1s 2ms/step - loss: 0.3315 - accuracy: 0.8633\n",
            "Epoch 78/100\n",
            "250/250 [==============================] - 0s 2ms/step - loss: 0.3318 - accuracy: 0.8630\n",
            "Epoch 79/100\n",
            "250/250 [==============================] - 0s 2ms/step - loss: 0.3314 - accuracy: 0.8633\n",
            "Epoch 80/100\n",
            "250/250 [==============================] - 0s 2ms/step - loss: 0.3313 - accuracy: 0.8637\n",
            "Epoch 81/100\n",
            "250/250 [==============================] - 0s 2ms/step - loss: 0.3314 - accuracy: 0.8634\n",
            "Epoch 82/100\n",
            "250/250 [==============================] - 0s 2ms/step - loss: 0.3311 - accuracy: 0.8616\n",
            "Epoch 83/100\n",
            "250/250 [==============================] - 0s 2ms/step - loss: 0.3311 - accuracy: 0.8633\n",
            "Epoch 84/100\n",
            "250/250 [==============================] - 0s 2ms/step - loss: 0.3308 - accuracy: 0.8621\n",
            "Epoch 85/100\n",
            "250/250 [==============================] - 0s 2ms/step - loss: 0.3308 - accuracy: 0.8634\n",
            "Epoch 86/100\n",
            "250/250 [==============================] - 0s 2ms/step - loss: 0.3307 - accuracy: 0.8637\n",
            "Epoch 87/100\n",
            "250/250 [==============================] - 0s 2ms/step - loss: 0.3310 - accuracy: 0.8630\n",
            "Epoch 88/100\n",
            "250/250 [==============================] - 0s 2ms/step - loss: 0.3308 - accuracy: 0.8636\n",
            "Epoch 89/100\n",
            "250/250 [==============================] - 0s 2ms/step - loss: 0.3309 - accuracy: 0.8636\n",
            "Epoch 90/100\n",
            "250/250 [==============================] - 0s 2ms/step - loss: 0.3307 - accuracy: 0.8635\n",
            "Epoch 91/100\n",
            "250/250 [==============================] - 0s 2ms/step - loss: 0.3305 - accuracy: 0.8630\n",
            "Epoch 92/100\n",
            "250/250 [==============================] - 0s 2ms/step - loss: 0.3308 - accuracy: 0.8649\n",
            "Epoch 93/100\n",
            "250/250 [==============================] - 0s 2ms/step - loss: 0.3306 - accuracy: 0.8637\n",
            "Epoch 94/100\n",
            "250/250 [==============================] - 0s 2ms/step - loss: 0.3305 - accuracy: 0.8640\n",
            "Epoch 95/100\n",
            "250/250 [==============================] - 0s 2ms/step - loss: 0.3305 - accuracy: 0.8644\n",
            "Epoch 96/100\n",
            "250/250 [==============================] - 0s 2ms/step - loss: 0.3304 - accuracy: 0.8635\n",
            "Epoch 97/100\n",
            "250/250 [==============================] - 0s 2ms/step - loss: 0.3303 - accuracy: 0.8644\n",
            "Epoch 98/100\n",
            "250/250 [==============================] - 0s 2ms/step - loss: 0.3304 - accuracy: 0.8626\n",
            "Epoch 99/100\n",
            "250/250 [==============================] - 1s 3ms/step - loss: 0.3304 - accuracy: 0.8648\n",
            "Epoch 100/100\n",
            "250/250 [==============================] - 1s 3ms/step - loss: 0.3304 - accuracy: 0.8646\n"
          ]
        },
        {
          "output_type": "execute_result",
          "data": {
            "text/plain": [
              "<keras.src.callbacks.History at 0x7ce1103cb370>"
            ]
          },
          "metadata": {},
          "execution_count": 29
        }
      ]
    },
    {
      "cell_type": "markdown",
      "source": [
        "### **Membuat Prediksi**"
      ],
      "metadata": {
        "id": "fudc11Akndj8"
      }
    },
    {
      "cell_type": "markdown",
      "source": [
        "**Langkah 1 - Modelkan Data Baru dan Buat Prediksi**"
      ],
      "metadata": {
        "id": "iiv6j0wQoil6"
      }
    },
    {
      "cell_type": "code",
      "source": [
        "print(ann.predict(sc.transform([[1, 0, 0, 600, 1, 40, 3, 60000, 2, 1, 1, 50000]])) > 0.5)"
      ],
      "metadata": {
        "colab": {
          "base_uri": "https://localhost:8080/"
        },
        "id": "o96WgZ3-rvlG",
        "outputId": "932ea415-808f-4409-d3dc-cd97de699ec4"
      },
      "execution_count": null,
      "outputs": [
        {
          "output_type": "stream",
          "name": "stdout",
          "text": [
            "1/1 [==============================] - 0s 23ms/step\n",
            "[[False]]\n"
          ]
        }
      ]
    },
    {
      "cell_type": "markdown",
      "source": [
        "**Langkah 2 - Prediksi Dengan Data Testing**"
      ],
      "metadata": {
        "id": "hJeGHHTyoil6"
      }
    },
    {
      "cell_type": "code",
      "source": [
        "y_pred = ann.predict(X_test)\n",
        "y_pred = (y_pred > 0.5)\n",
        "print(np.concatenate((y_pred.reshape(len(y_pred),1), y_test.reshape(len(y_test),1)),1))"
      ],
      "metadata": {
        "colab": {
          "base_uri": "https://localhost:8080/"
        },
        "id": "yCWoWigcrxEU",
        "outputId": "5092b846-50b5-48dd-aeec-72f662bd1ee1"
      },
      "execution_count": null,
      "outputs": [
        {
          "output_type": "stream",
          "name": "stdout",
          "text": [
            "63/63 [==============================] - 0s 2ms/step\n",
            "[[0 0]\n",
            " [0 1]\n",
            " [0 0]\n",
            " ...\n",
            " [0 0]\n",
            " [0 0]\n",
            " [0 0]]\n"
          ]
        }
      ]
    },
    {
      "cell_type": "markdown",
      "source": [
        "**Langkah 3 - Cek Akurasi dan Confusion Matrix**"
      ],
      "metadata": {
        "id": "Tcmj8vCnoil7"
      }
    },
    {
      "cell_type": "code",
      "source": [
        "from sklearn.metrics import confusion_matrix, accuracy_score\n",
        "cm = confusion_matrix(y_test, y_pred)\n",
        "print(cm)\n",
        "accuracy_score(y_test, y_pred)"
      ],
      "metadata": {
        "colab": {
          "base_uri": "https://localhost:8080/"
        },
        "id": "Iu4-Awy8ry5r",
        "outputId": "76ba888e-7fe2-42cd-a129-c4d9969ef94e"
      },
      "execution_count": null,
      "outputs": [
        {
          "output_type": "stream",
          "name": "stdout",
          "text": [
            "[[1516   79]\n",
            " [ 199  206]]\n"
          ]
        },
        {
          "output_type": "execute_result",
          "data": {
            "text/plain": [
              "0.861"
            ]
          },
          "metadata": {},
          "execution_count": 33
        }
      ]
    },
    {
      "cell_type": "markdown",
      "source": [
        "## **Tugas**\n",
        "\n",
        "\n",
        "*  Lakukan klasifikasi pada data MNIST dengan menggunakan model ANN\n",
        "*  Anda diperbolehkan melakukan eksplorasi terhadap,\n",
        "    1. Metode pra pengolahan\n",
        "    2. Pemilihan fitur\n",
        "    3. Arsitektur ANN\n",
        "    4. Fungsi Aktiviasi\n",
        "\n",
        "*  ANN diimplementasikan dengan menggunakan tensorflow.\n",
        "*  DIKERJAKAN SECARA BERKELOMPOK\n",
        "*  JELASKAN HASIL YANG ANDA DAPATKAN,\n",
        "    1. AKURASI\n",
        "    2. CONFUSION MATRIX\n",
        "    3. KONFIGURASI MODEL --> MULAI DARI PRA PENGOLAHAN SAMPAI ARSITEKTUR ANN"
      ],
      "metadata": {
        "id": "h1LzFmaMs4Ho"
      }
    },
    {
      "cell_type": "code",
      "source": [],
      "metadata": {
        "id": "xgvVd0qj32CE"
      },
      "execution_count": null,
      "outputs": []
    },
    {
      "cell_type": "code",
      "source": [
        "import tensorflow as tf\n",
        "from tensorflow.keras import layers, models\n",
        "from sklearn.datasets import fetch_openml\n",
        "from sklearn.model_selection import train_test_split\n",
        "import numpy as np\n",
        "import matplotlib.pyplot as plt\n",
        "from sklearn.metrics import confusion_matrix, accuracy_score\n",
        "from sklearn.decomposition import PCA\n",
        "from tensorflow.keras.optimizers import Adam"
      ],
      "metadata": {
        "id": "Z301paa_32Y8"
      },
      "execution_count": null,
      "outputs": []
    },
    {
      "cell_type": "markdown",
      "source": [
        "## **Load Data**"
      ],
      "metadata": {
        "id": "1IDaMb8832Y9"
      }
    },
    {
      "cell_type": "code",
      "source": [
        "# Unduh dataset MNIST dari scikit-learn\n",
        "mnist = fetch_openml('mnist_784')\n",
        "\n"
      ],
      "metadata": {
        "outputId": "2225d921-6f0e-4e3b-da1e-58cc2948bf62",
        "colab": {
          "base_uri": "https://localhost:8080/"
        },
        "id": "x6ySQZTa32Y-"
      },
      "execution_count": null,
      "outputs": [
        {
          "output_type": "stream",
          "name": "stderr",
          "text": [
            "/usr/local/lib/python3.10/dist-packages/sklearn/datasets/_openml.py:968: FutureWarning: The default value of `parser` will change from `'liac-arff'` to `'auto'` in 1.4. You can set `parser='auto'` to silence this warning. Therefore, an `ImportError` will be raised from 1.4 if the dataset is dense and pandas is not installed. Note that the pandas parser may return different data types. See the Notes Section in fetch_openml's API doc for details.\n",
            "  warn(\n"
          ]
        }
      ]
    },
    {
      "cell_type": "code",
      "source": [
        "# Pisahkan data gambar dan label\n",
        "X = mnist.data.astype('float32')\n",
        "y = mnist.target.astype('int')"
      ],
      "metadata": {
        "id": "kvsZ0y3h32ZA"
      },
      "execution_count": null,
      "outputs": []
    },
    {
      "cell_type": "markdown",
      "source": [
        "## **Pra-pemrosesan**"
      ],
      "metadata": {
        "id": "fmM1406-32ZB"
      }
    },
    {
      "cell_type": "markdown",
      "source": [
        "### **Scaling**"
      ],
      "metadata": {
        "id": "md7FVc9k32ZB"
      }
    },
    {
      "cell_type": "code",
      "source": [
        "X /= 255.0"
      ],
      "metadata": {
        "id": "a6Yd0-Jn32ZC"
      },
      "execution_count": null,
      "outputs": []
    },
    {
      "cell_type": "markdown",
      "source": [
        "### **Flatten**"
      ],
      "metadata": {
        "id": "9TAKXVYb32ZD"
      }
    },
    {
      "cell_type": "code",
      "source": [
        "#images = images.values.reshape(images.shape[0], -1)"
      ],
      "metadata": {
        "id": "avLcrrqv32ZE"
      },
      "execution_count": null,
      "outputs": []
    },
    {
      "cell_type": "markdown",
      "source": [
        "## **Split Data**"
      ],
      "metadata": {
        "id": "5ev6i52R32ZE"
      }
    },
    {
      "cell_type": "code",
      "source": [
        "X_train, X_test, y_train, y_test = train_test_split(X, y, test_size=0.2, random_state=42)"
      ],
      "metadata": {
        "id": "Qe7LWKV632ZF"
      },
      "execution_count": null,
      "outputs": []
    },
    {
      "cell_type": "markdown",
      "source": [
        "### **Ektraksi Fitur**"
      ],
      "metadata": {
        "id": "_5ZWs1B832ZG"
      }
    },
    {
      "cell_type": "code",
      "source": [
        "# Inisialisasi objek PCA dengan jumlah komponen yang diinginkan (misalnya, 100 komponen)\n",
        "n_components = 200  # Ubah sesuai dengan kebutuhan Anda\n",
        "pca = PCA(n_components=n_components)\n",
        "\n",
        "# Fit-transform pada data pelatihan\n",
        "X_train_pca= pca.fit_transform(X_train)\n",
        "\n",
        "# Transformasi data pengujian\n",
        "X_test_pca = pca.transform(X_test)"
      ],
      "metadata": {
        "id": "aakB5HVY32ZG"
      },
      "execution_count": null,
      "outputs": []
    },
    {
      "cell_type": "markdown",
      "source": [
        "## **Arsitektur Model ANN**"
      ],
      "metadata": {
        "id": "yHovFxwh32ZH"
      }
    },
    {
      "cell_type": "code",
      "source": [
        "model = models.Sequential([\n",
        "    layers.Flatten(input_shape=(n_components,)),\n",
        "    #layers.Input(shape = n_components),\n",
        "    layers.Dense(n_components, activation='relu'),\n",
        "    layers.Dense(64, activation='relu'),\n",
        "    layers.Dense(10, activation='softmax')\n",
        "])"
      ],
      "metadata": {
        "id": "433R3CH732ZI"
      },
      "execution_count": null,
      "outputs": []
    },
    {
      "cell_type": "markdown",
      "source": [
        "## **Kompilasi Model**"
      ],
      "metadata": {
        "id": "8_FbiSY732ZI"
      }
    },
    {
      "cell_type": "code",
      "source": [
        "learning_rate = 0.001\n",
        "optimizer = Adam(learning_rate=learning_rate)\n",
        "\n",
        "model.compile(optimizer=optimizer,\n",
        "              loss='sparse_categorical_crossentropy',\n",
        "              metrics=['accuracy'])"
      ],
      "metadata": {
        "id": "VVb_AfDj2ZHL"
      },
      "execution_count": null,
      "outputs": []
    },
    {
      "cell_type": "code",
      "source": [
        "model.summary()"
      ],
      "metadata": {
        "id": "KAnc8llEo0wh",
        "colab": {
          "base_uri": "https://localhost:8080/"
        },
        "outputId": "a264ac95-ba0b-4852-814a-47000e985a25"
      },
      "execution_count": null,
      "outputs": [
        {
          "output_type": "stream",
          "name": "stdout",
          "text": [
            "Model: \"sequential_1\"\n",
            "_________________________________________________________________\n",
            " Layer (type)                Output Shape              Param #   \n",
            "=================================================================\n",
            " flatten_1 (Flatten)         (None, 200)               0         \n",
            "                                                                 \n",
            " dense_3 (Dense)             (None, 200)               40200     \n",
            "                                                                 \n",
            " dense_4 (Dense)             (None, 64)                12864     \n",
            "                                                                 \n",
            " dense_5 (Dense)             (None, 10)                650       \n",
            "                                                                 \n",
            "=================================================================\n",
            "Total params: 53714 (209.82 KB)\n",
            "Trainable params: 53714 (209.82 KB)\n",
            "Non-trainable params: 0 (0.00 Byte)\n",
            "_________________________________________________________________\n"
          ]
        }
      ]
    },
    {
      "cell_type": "markdown",
      "source": [
        "## **Training Model**"
      ],
      "metadata": {
        "id": "IGHsQu3u32ZL"
      }
    },
    {
      "cell_type": "code",
      "source": [
        "history = model.fit(X_train_pca, y_train, epochs=20, validation_split=0.2)"
      ],
      "metadata": {
        "outputId": "9c545231-4d36-4784-c6f7-562ebaf67fa3",
        "colab": {
          "base_uri": "https://localhost:8080/"
        },
        "id": "aGr_i3Kr32ZM"
      },
      "execution_count": null,
      "outputs": [
        {
          "output_type": "stream",
          "name": "stdout",
          "text": [
            "Epoch 1/20\n",
            "1400/1400 [==============================] - 6s 3ms/step - loss: 0.2670 - accuracy: 0.9242 - val_loss: 0.1282 - val_accuracy: 0.9609\n",
            "Epoch 2/20\n",
            "1400/1400 [==============================] - 4s 3ms/step - loss: 0.0841 - accuracy: 0.9756 - val_loss: 0.0991 - val_accuracy: 0.9692\n",
            "Epoch 3/20\n",
            "1400/1400 [==============================] - 8s 6ms/step - loss: 0.0500 - accuracy: 0.9846 - val_loss: 0.0952 - val_accuracy: 0.9706\n",
            "Epoch 4/20\n",
            "1400/1400 [==============================] - 7s 5ms/step - loss: 0.0281 - accuracy: 0.9912 - val_loss: 0.1028 - val_accuracy: 0.9706\n",
            "Epoch 5/20\n",
            "1400/1400 [==============================] - 5s 4ms/step - loss: 0.0213 - accuracy: 0.9931 - val_loss: 0.1098 - val_accuracy: 0.9709\n",
            "Epoch 6/20\n",
            "1400/1400 [==============================] - 4s 3ms/step - loss: 0.0143 - accuracy: 0.9957 - val_loss: 0.1128 - val_accuracy: 0.9705\n",
            "Epoch 7/20\n",
            "1400/1400 [==============================] - 4s 3ms/step - loss: 0.0143 - accuracy: 0.9951 - val_loss: 0.1200 - val_accuracy: 0.9703\n",
            "Epoch 8/20\n",
            "1400/1400 [==============================] - 5s 4ms/step - loss: 0.0116 - accuracy: 0.9960 - val_loss: 0.1256 - val_accuracy: 0.9708\n",
            "Epoch 9/20\n",
            "1400/1400 [==============================] - 4s 3ms/step - loss: 0.0090 - accuracy: 0.9968 - val_loss: 0.1361 - val_accuracy: 0.9720\n",
            "Epoch 10/20\n",
            "1400/1400 [==============================] - 4s 3ms/step - loss: 0.0101 - accuracy: 0.9967 - val_loss: 0.1275 - val_accuracy: 0.9729\n",
            "Epoch 11/20\n",
            "1400/1400 [==============================] - 5s 4ms/step - loss: 0.0069 - accuracy: 0.9978 - val_loss: 0.1252 - val_accuracy: 0.9756\n",
            "Epoch 12/20\n",
            "1400/1400 [==============================] - 4s 3ms/step - loss: 0.0085 - accuracy: 0.9971 - val_loss: 0.1511 - val_accuracy: 0.9695\n",
            "Epoch 13/20\n",
            "1400/1400 [==============================] - 7s 5ms/step - loss: 0.0096 - accuracy: 0.9967 - val_loss: 0.1349 - val_accuracy: 0.9754\n",
            "Epoch 14/20\n",
            "1400/1400 [==============================] - 4s 3ms/step - loss: 0.0090 - accuracy: 0.9970 - val_loss: 0.1507 - val_accuracy: 0.9726\n",
            "Epoch 15/20\n",
            "1400/1400 [==============================] - 4s 3ms/step - loss: 0.0060 - accuracy: 0.9979 - val_loss: 0.1439 - val_accuracy: 0.9728\n",
            "Epoch 16/20\n",
            "1400/1400 [==============================] - 5s 4ms/step - loss: 0.0068 - accuracy: 0.9977 - val_loss: 0.1693 - val_accuracy: 0.9696\n",
            "Epoch 17/20\n",
            "1400/1400 [==============================] - 4s 3ms/step - loss: 0.0064 - accuracy: 0.9976 - val_loss: 0.1559 - val_accuracy: 0.9734\n",
            "Epoch 18/20\n",
            "1400/1400 [==============================] - 5s 3ms/step - loss: 0.0054 - accuracy: 0.9983 - val_loss: 0.1927 - val_accuracy: 0.9692\n",
            "Epoch 19/20\n",
            "1400/1400 [==============================] - 6s 4ms/step - loss: 0.0078 - accuracy: 0.9975 - val_loss: 0.1634 - val_accuracy: 0.9743\n",
            "Epoch 20/20\n",
            "1400/1400 [==============================] - 4s 3ms/step - loss: 0.0064 - accuracy: 0.9978 - val_loss: 0.1668 - val_accuracy: 0.9730\n"
          ]
        }
      ]
    },
    {
      "cell_type": "code",
      "source": [
        "# Kemudian Anda dapat mengakses informasi seperti ini:\n",
        "loss = history.history['loss']  # Histori nilai loss pada setiap epoch\n",
        "val_loss = history.history['val_loss']  # Histori nilai loss pada setiap epoch saat validasi\n",
        "accuracy = history.history['accuracy']  # Histori nilai akurasi pada setiap epoch\n",
        "val_accuracy = history.history['val_accuracy']  # Histori nilai akurasi pada setiap epoch saat validasi\n",
        "\n",
        "print(\"Loss:\")\n",
        "print(loss)\n",
        "\n",
        "print(\"Validation Loss:\")\n",
        "print(val_loss)\n",
        "\n",
        "print(\"Accuracy:\")\n",
        "print(accuracy)\n",
        "\n",
        "print(\"Validation Accuracy:\")\n",
        "print(val_accuracy)"
      ],
      "metadata": {
        "outputId": "3c7a790c-85b2-4e54-f8e7-74be2ea58772",
        "colab": {
          "base_uri": "https://localhost:8080/"
        },
        "id": "YXAWuwJz32ZN"
      },
      "execution_count": null,
      "outputs": [
        {
          "output_type": "stream",
          "name": "stdout",
          "text": [
            "Loss:\n",
            "[0.26722991466522217, 0.08734834939241409, 0.05169715732336044, 0.03101269342005253, 0.020469175651669502, 0.016360601410269737, 0.014207848347723484, 0.009887398220598698, 0.01283486932516098, 0.008270366117358208, 0.008009287528693676, 0.01104703452438116, 0.0074906861409544945, 0.007227153051644564, 0.008562306873500347, 0.006746431812644005, 0.008777963928878307, 0.005214254837483168, 0.005825166590511799, 0.007684025913476944]\n",
            "Validation Loss:\n",
            "[0.127116858959198, 0.10628537088632584, 0.09841268509626389, 0.09847553074359894, 0.10837274044752121, 0.11007987707853317, 0.11514881998300552, 0.11931398510932922, 0.1324738711118698, 0.12975049018859863, 0.14111487567424774, 0.14989504218101501, 0.14022961258888245, 0.15102607011795044, 0.158934086561203, 0.17386505007743835, 0.1554221361875534, 0.1555083841085434, 0.17350153625011444, 0.18121303617954254]\n",
            "Accuracy:\n",
            "[0.9233705401420593, 0.9738616347312927, 0.9841517806053162, 0.9905580282211304, 0.9939285516738892, 0.9945535659790039, 0.9951785802841187, 0.9965624809265137, 0.9956026673316956, 0.9970089197158813, 0.9973437786102295, 0.9962946176528931, 0.9977678656578064, 0.9975892901420593, 0.9970312714576721, 0.9978571534156799, 0.9970312714576721, 0.998058021068573, 0.9979240894317627, 0.9973214268684387]\n",
            "Validation Accuracy:\n",
            "[0.961517870426178, 0.9660714268684387, 0.9681249856948853, 0.9704464077949524, 0.970714271068573, 0.9732142686843872, 0.970714271068573, 0.9723214507102966, 0.9692857265472412, 0.9694643020629883, 0.9716071486473083, 0.9710714221000671, 0.9741964340209961, 0.9741964340209961, 0.9739285707473755, 0.9717857241630554, 0.9731249809265137, 0.9745535850524902, 0.9716071486473083, 0.972053587436676]\n"
          ]
        }
      ]
    },
    {
      "cell_type": "markdown",
      "source": [
        "## **Evaluasi Model**"
      ],
      "metadata": {
        "id": "rKcdSI1832ZO"
      }
    },
    {
      "cell_type": "markdown",
      "source": [
        "**Membuat Prediksi**"
      ],
      "metadata": {
        "id": "iYN4_oF4okOs"
      }
    },
    {
      "cell_type": "code",
      "source": [
        "# Membuat prediksi pada data pengujian\n",
        "predictions = model.predict(X_test_pca)\n",
        "y_pred = np.argmax(predictions, axis=1)\n",
        "\n",
        "# Menampilkan beberapa contoh hasil prediksi\n",
        "num_examples_to_show = 15  # Ubah sesuai kebutuhan\n",
        "\n",
        "# Mengatur tata letak subplot menjadi 3 baris dan 5 kolom (3x5)\n",
        "fig, axes = plt.subplots(3, 5, figsize=(12, 8))\n",
        "fig.subplots_adjust(hspace=0.5)\n",
        "\n",
        "for i in range(num_examples_to_show):\n",
        "    sample_image = X_test.iloc[i].values\n",
        "    actual_label = y_test.iloc[i]\n",
        "    predicted_label = y_pred[i]\n",
        "\n",
        "    # Menampilkan gambar di subplot yang sesuai\n",
        "    ax = axes[i // 5, i % 5]\n",
        "    ax.imshow(sample_image.reshape(28, 28), cmap='gray')\n",
        "\n",
        "    # Memeriksa apakah label sesuai\n",
        "    if actual_label == predicted_label:\n",
        "        title_color = 'black'\n",
        "    else:\n",
        "        title_color = 'red'\n",
        "\n",
        "    ax.set_title(f\"Actual: {actual_label}\\nPredicted: {predicted_label}\")\n",
        "    ax.axis('off')\n",
        "\n",
        "plt.tight_layout()\n",
        "plt.show()"
      ],
      "metadata": {
        "id": "oLBBp23sowFr",
        "colab": {
          "base_uri": "https://localhost:8080/",
          "height": 825
        },
        "outputId": "bbea5b52-f586-4728-f011-e01a47b6d7a3"
      },
      "execution_count": null,
      "outputs": [
        {
          "output_type": "stream",
          "name": "stdout",
          "text": [
            "438/438 [==============================] - 4s 9ms/step\n"
          ]
        },
        {
          "output_type": "display_data",
          "data": {
            "text/plain": [
              "<Figure size 1200x800 with 15 Axes>"
            ],
            "image/png": "[encoded data removed]"
          },
          "metadata": {}
        }
      ]
    },
    {
      "cell_type": "markdown",
      "source": [
        "### **Akurasi**"
      ],
      "metadata": {
        "id": "-OC0vOIw32ZS"
      }
    },
    {
      "cell_type": "code",
      "source": [
        "test_loss, test_acc = model.evaluate(X_test_pca, y_test)\n",
        "print(f'Akurasi pada data pengujian: {test_acc:.2f}')"
      ],
      "metadata": {
        "colab": {
          "base_uri": "https://localhost:8080/"
        },
        "outputId": "2887e536-5f15-444e-8b8a-872765c83f53",
        "id": "H4zqiGQC32ZT"
      },
      "execution_count": null,
      "outputs": [
        {
          "output_type": "stream",
          "name": "stdout",
          "text": [
            "438/438 [==============================] - 2s 4ms/step - loss: 0.2025 - accuracy: 0.9709\n",
            "Akurasi pada data pengujian: 0.97\n"
          ]
        }
      ]
    },
    {
      "cell_type": "code",
      "source": [
        "train_loss, train_acc = model.evaluate(X_train_pca, y_train)\n",
        "print(f'Akurasi pada data pelatihan: {train_acc:.2f}')"
      ],
      "metadata": {
        "colab": {
          "base_uri": "https://localhost:8080/"
        },
        "outputId": "dc4e4c5e-26fb-449c-eb7e-79e05d552e24",
        "id": "-TG91GDm32ZU"
      },
      "execution_count": null,
      "outputs": [
        {
          "output_type": "stream",
          "name": "stdout",
          "text": [
            "1750/1750 [==============================] - 6s 3ms/step - loss: 0.0368 - accuracy: 0.9934\n",
            "Akurasi pada data pelatihan: 0.99\n"
          ]
        }
      ]
    },
    {
      "cell_type": "markdown",
      "source": [
        "### **Confusion Matriks**"
      ],
      "metadata": {
        "id": "E7yohlat32ZV"
      }
    },
    {
      "cell_type": "code",
      "source": [
        "# Membuat matriks kebingungan\n",
        "confusion = confusion_matrix(y_test, y_pred)\n",
        "print('Matriks Kebingungan:')\n",
        "print(confusion)"
      ],
      "metadata": {
        "colab": {
          "base_uri": "https://localhost:8080/"
        },
        "outputId": "09541bb3-d83f-4330-f06d-4f1ff10d07f6",
        "id": "-YXep6qT32ZW"
      },
      "execution_count": null,
      "outputs": [
        {
          "output_type": "stream",
          "name": "stdout",
          "text": [
            "Matriks Kebingungan:\n",
            "[[1314    1    3    0    3    3    6    6    4    3]\n",
            " [   0 1585    3    2    0    0    1    2    3    4]\n",
            " [   0    9 1340    4    9    2    4    5    3    4]\n",
            " [   0    4   16 1387    0   11    1    3    5    6]\n",
            " [   0    2    2    0 1255    0    4    4    1   27]\n",
            " [   3    3    1   14    1 1241    7    0    2    1]\n",
            " [   5    0    0    0    5    8 1373    1    4    0]\n",
            " [   2    7   18    1    4    0    0 1451    0   20]\n",
            " [   4   14    4   21    4   14    7    5 1270   14]\n",
            " [   4    7    2    5   11    7    0    5    3 1376]]\n"
          ]
        }
      ]
    },
    {
      "cell_type": "markdown",
      "source": [
        "### **Konfigurasi Model**\n",
        "\n",
        "???"
      ],
      "metadata": {
        "id": "GtJ_jad832ZX"
      }
    },
    {
      "cell_type": "code",
      "source": [
        "import tensorflow as tf\n",
        "from tensorflow.keras import layers, models\n",
        "from sklearn.datasets import fetch_openml\n",
        "from sklearn.model_selection import train_test_split\n",
        "import numpy as np\n",
        "import matplotlib.pyplot as plt\n",
        "\n",
        "# Unduh dataset MNIST dari scikit-learn\n",
        "# mnist = fetch_openml('mnist_784')\n",
        "\n",
        "# Pisahkan data gambar dan label\n",
        "# images = mnist.data.astype('float32')\n",
        "# labels = mnist.target.astype('int')\n",
        "\n",
        "# Langkah 1: Pra-pemrosesan\n",
        "images /= 255.0  # Skalakan data\n",
        "\n",
        "# Bagi data menjadi data pelatihan dan pengujian\n",
        "train_images, test_images, train_labels, test_labels = train_test_split(images, labels, test_size=0.2, random_state=42)\n",
        "\n",
        "# Langkah 2: Definisikan arsitektur model ANN\n",
        "model = models.Sequential([\n",
        "    layers.Flatten(input_shape=(784,)),\n",
        "    layers.Dense(128, activation='relu'),\n",
        "    layers.Dense(64, activation='relu'),\n",
        "    layers.Dense(10, activation='softmax')\n",
        "])\n",
        "\n",
        "# Langkah 3: Kompilasi model\n",
        "model.compile(optimizer='adam',\n",
        "              loss='sparse_categorical_crossentropy',\n",
        "              metrics=['accuracy'])\n",
        "\n",
        "# Langkah 4: Latih model\n",
        "history = model.fit(train_images, train_labels, epochs=10, validation_split=0.2)\n",
        "\n",
        "# Langkah 5: Evaluasi model pada data pengujian\n",
        "test_loss, test_acc = model.evaluate(test_images, test_labels)\n",
        "print(f'Akurasi pada data pengujian: {test_acc:.2f}')\n"
      ],
      "metadata": {
        "id": "K2TwcA6RMFXs",
        "outputId": "e8b0fa63-19b5-4654-d06a-286db2899765",
        "colab": {
          "base_uri": "https://localhost:8080/"
        }
      },
      "execution_count": null,
      "outputs": [
        {
          "output_type": "stream",
          "name": "stdout",
          "text": [
            "Epoch 1/10\n",
            "1400/1400 [==============================] - 7s 4ms/step - loss: 0.9425 - accuracy: 0.7258 - val_loss: 0.4920 - val_accuracy: 0.8630\n",
            "Epoch 2/10\n",
            "1400/1400 [==============================] - 7s 5ms/step - loss: 0.4331 - accuracy: 0.8767 - val_loss: 0.3719 - val_accuracy: 0.8954\n",
            "Epoch 3/10\n",
            "1400/1400 [==============================] - 5s 4ms/step - loss: 0.3534 - accuracy: 0.8978 - val_loss: 0.3249 - val_accuracy: 0.9057\n",
            "Epoch 4/10\n",
            "1400/1400 [==============================] - 7s 5ms/step - loss: 0.3120 - accuracy: 0.9085 - val_loss: 0.3033 - val_accuracy: 0.9111\n",
            "Epoch 5/10\n",
            "1400/1400 [==============================] - 5s 4ms/step - loss: 0.2824 - accuracy: 0.9177 - val_loss: 0.2817 - val_accuracy: 0.9153\n",
            "Epoch 6/10\n",
            "1400/1400 [==============================] - 8s 5ms/step - loss: 0.2592 - accuracy: 0.9234 - val_loss: 0.2610 - val_accuracy: 0.9255\n",
            "Epoch 7/10\n",
            "1400/1400 [==============================] - 5s 4ms/step - loss: 0.2389 - accuracy: 0.9296 - val_loss: 0.2408 - val_accuracy: 0.9294\n",
            "Epoch 8/10\n",
            "1400/1400 [==============================] - 7s 5ms/step - loss: 0.2214 - accuracy: 0.9352 - val_loss: 0.2380 - val_accuracy: 0.9294\n",
            "Epoch 9/10\n",
            "1400/1400 [==============================] - 5s 4ms/step - loss: 0.2050 - accuracy: 0.9392 - val_loss: 0.2083 - val_accuracy: 0.9387\n",
            "Epoch 10/10\n",
            "1400/1400 [==============================] - 7s 5ms/step - loss: 0.1900 - accuracy: 0.9446 - val_loss: 0.2094 - val_accuracy: 0.9376\n",
            "438/438 [==============================] - 1s 2ms/step - loss: 0.2197 - accuracy: 0.9352\n",
            "Akurasi pada data pengujian: 0.94\n"
          ]
        }
      ]
    },
    {
      "cell_type": "code",
      "source": [
        "# Evaluasi akurasi data pelatihan\n",
        "train_loss, train_acc = model.evaluate(train_images, train_labels)\n",
        "print(f'Akurasi pada data pelatihan: {train_acc:.2f}')"
      ],
      "metadata": {
        "id": "6ygPEdq3Nzzi",
        "outputId": "e322e9c5-8317-4d89-8506-4502a9a52007",
        "colab": {
          "base_uri": "https://localhost:8080/"
        }
      },
      "execution_count": null,
      "outputs": [
        {
          "output_type": "stream",
          "name": "stdout",
          "text": [
            "1750/1750 [==============================] - 4s 2ms/step - loss: 0.1935 - accuracy: 0.9417\n",
            "Akurasi pada data pelatihan: 0.94\n"
          ]
        }
      ]
    },
    {
      "cell_type": "code",
      "source": [
        "# Kemudian Anda dapat mengakses informasi seperti ini:\n",
        "loss = history.history['loss']  # Histori nilai loss pada setiap epoch\n",
        "val_loss = history.history['val_loss']  # Histori nilai loss pada setiap epoch saat validasi\n",
        "accuracy = history.history['accuracy']  # Histori nilai akurasi pada setiap epoch\n",
        "val_accuracy = history.history['val_accuracy']  # Histori nilai akurasi pada setiap epoch saat validasi"
      ],
      "metadata": {
        "id": "sDeJQzaBTSzk"
      },
      "execution_count": null,
      "outputs": []
    },
    {
      "cell_type": "code",
      "source": [
        "# Mencetak informasi yang diakses\n",
        "print(\"Loss:\")\n",
        "print(loss)\n",
        "\n",
        "print(\"Validation Loss:\")\n",
        "print(val_loss)\n",
        "\n",
        "print(\"Accuracy:\")\n",
        "print(accuracy)\n",
        "\n",
        "print(\"Validation Accuracy:\")\n",
        "print(val_accuracy)"
      ],
      "metadata": {
        "id": "zUp5aXD2TgXG",
        "outputId": "ffa3f466-7d79-4c8c-d768-9d892dea7f2a",
        "colab": {
          "base_uri": "https://localhost:8080/"
        }
      },
      "execution_count": null,
      "outputs": [
        {
          "output_type": "stream",
          "name": "stdout",
          "text": [
            "Loss:\n",
            "[0.9424716830253601, 0.4331307113170624, 0.353429913520813, 0.31197068095207214, 0.2823590934276581, 0.25920432806015015, 0.23888099193572998, 0.22136305272579193, 0.20498092472553253, 0.18995429575443268]\n",
            "Validation Loss:\n",
            "[0.49202147126197815, 0.3718964457511902, 0.3248710334300995, 0.3032955229282379, 0.28166893124580383, 0.26102757453918457, 0.2408055067062378, 0.23797552287578583, 0.20829184353351593, 0.20938457548618317]\n",
            "Accuracy:\n",
            "[0.7257589101791382, 0.8767187595367432, 0.8977901935577393, 0.9084598422050476, 0.9176785945892334, 0.9233928322792053, 0.9295982122421265, 0.9351562261581421, 0.9392410516738892, 0.9445981979370117]\n",
            "Validation Accuracy:\n",
            "[0.8630357384681702, 0.8953571319580078, 0.9057142734527588, 0.9110714197158813, 0.9152678847312927, 0.9255357384681702, 0.9293749928474426, 0.9293749928474426, 0.938660740852356, 0.9375892877578735]\n"
          ]
        }
      ]
    },
    {
      "cell_type": "code",
      "source": [
        "model.summary()"
      ],
      "metadata": {
        "id": "bGPgnqzaWEN4",
        "outputId": "a115c4d2-2f49-407c-d4c5-1061687ed419",
        "colab": {
          "base_uri": "https://localhost:8080/"
        }
      },
      "execution_count": null,
      "outputs": [
        {
          "output_type": "stream",
          "name": "stdout",
          "text": [
            "Model: \"sequential_2\"\n",
            "_________________________________________________________________\n",
            " Layer (type)                Output Shape              Param #   \n",
            "=================================================================\n",
            " flatten_2 (Flatten)         (None, 784)               0         \n",
            "                                                                 \n",
            " dense_6 (Dense)             (None, 128)               100480    \n",
            "                                                                 \n",
            " dense_7 (Dense)             (None, 64)                8256      \n",
            "                                                                 \n",
            " dense_8 (Dense)             (None, 10)                650       \n",
            "                                                                 \n",
            "=================================================================\n",
            "Total params: 109386 (427.29 KB)\n",
            "Trainable params: 109386 (427.29 KB)\n",
            "Non-trainable params: 0 (0.00 Byte)\n",
            "_________________________________________________________________\n"
          ]
        }
      ]
    }
  ]
}