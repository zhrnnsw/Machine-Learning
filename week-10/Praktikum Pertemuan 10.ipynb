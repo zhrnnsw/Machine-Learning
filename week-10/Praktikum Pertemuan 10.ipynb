{
  "cells": [
    {
      "cell_type": "markdown",
      "metadata": {
        "id": "view-in-github",
        "colab_type": "text"
      },
      "source": [
        "<a href=\"https://colab.research.google.com/github/zhrnnsw/Machine-Learning/blob/main/week-10/Praktikum%20Pertemuan%2010.ipynb\" target=\"_parent\"><img src=\"https://colab.research.google.com/assets/colab-badge.svg\" alt=\"Open In Colab\"/></a>"
      ]
    },
    {
      "cell_type": "markdown",
      "metadata": {
        "id": "XJKXds24V-b9"
      },
      "source": [
        "# **Laporan Praktikum Pertemuan 10 - Recurrent Neural Network (RNN)**\n",
        "---\n",
        "\n",
        "\n",
        "> Nama: Zahra Annisa Wahono\n",
        ">\n",
        "> Kelas: TI-3H / 29\n",
        ">\n",
        "> NIM: 2141720016"
      ]
    },
    {
      "cell_type": "markdown",
      "metadata": {
        "id": "hRQeTtxXWa3C"
      },
      "source": [
        "## **Praktikum 1 - RNN untuk Analisis Sentimen**"
      ]
    },
    {
      "cell_type": "markdown",
      "metadata": {
        "id": "X5ABeNfGW6wv"
      },
      "source": [
        "### **Setup**\n",
        "\n",
        "Impor matplotlib dan buat fungsi pembantu untuk memplot grafik:"
      ]
    },
    {
      "cell_type": "code",
      "execution_count": 1,
      "metadata": {
        "id": "jT5PYy1ybAVv"
      },
      "outputs": [],
      "source": [
        "import numpy as np\n",
        "import tensorflow_datasets as tfds\n",
        "import tensorflow as tf\n",
        "\n",
        "tfds.disable_progress_bar()"
      ]
    },
    {
      "cell_type": "code",
      "execution_count": 2,
      "metadata": {
        "id": "raek5okVbEin"
      },
      "outputs": [],
      "source": [
        "import matplotlib.pyplot as plt\n",
        "\n",
        "def plot_graphs(history, metric):\n",
        "  plt.plot(history.history[metric])\n",
        "  plt.plot(history.history['val_'+metric], '')\n",
        "  plt.xlabel(\"Epochs\")\n",
        "  plt.ylabel(metric)\n",
        "  plt.legend([metric, 'val_'+metric])"
      ]
    },
    {
      "cell_type": "markdown",
      "metadata": {
        "id": "IRihEl1WXAzt"
      },
      "source": [
        "### **Setup input pipeline**\n",
        "\n",
        "Dataset ulasan film IMDB adalah kumpulan data klasifikasi biner—semua ulasan memiliki sentimen positif atau negatif.\n",
        "Download dataset menggunakan TFDS. Lihat loading text tutorial jika ingin me load data secara manual"
      ]
    },
    {
      "cell_type": "code",
      "execution_count": 3,
      "metadata": {
        "colab": {
          "base_uri": "https://localhost:8080/"
        },
        "id": "56oGMJKtbJxB",
        "outputId": "71fdb10c-b022-4b40-bf23-fdc909814420"
      },
      "outputs": [
        {
          "output_type": "stream",
          "name": "stdout",
          "text": [
            "Downloading and preparing dataset 80.23 MiB (download: 80.23 MiB, generated: Unknown size, total: 80.23 MiB) to /root/tensorflow_datasets/imdb_reviews/plain_text/1.0.0...\n",
            "Dataset imdb_reviews downloaded and prepared to /root/tensorflow_datasets/imdb_reviews/plain_text/1.0.0. Subsequent calls will reuse this data.\n"
          ]
        },
        {
          "output_type": "execute_result",
          "data": {
            "text/plain": [
              "(TensorSpec(shape=(), dtype=tf.string, name=None),\n",
              " TensorSpec(shape=(), dtype=tf.int64, name=None))"
            ]
          },
          "metadata": {},
          "execution_count": 3
        }
      ],
      "source": [
        "dataset, info = tfds.load('imdb_reviews', with_info=True,\n",
        "                          as_supervised=True)\n",
        "train_dataset, test_dataset = dataset['train'], dataset['test']\n",
        "\n",
        "train_dataset.element_spec"
      ]
    },
    {
      "cell_type": "markdown",
      "metadata": {
        "id": "GoDZrcCIbNIE"
      },
      "source": [
        "Awalnya ini mengembalikan dataset (teks, pasangan label):"
      ]
    },
    {
      "cell_type": "code",
      "execution_count": 4,
      "metadata": {
        "colab": {
          "base_uri": "https://localhost:8080/"
        },
        "id": "zfSwF2cKbQ79",
        "outputId": "779bb479-79f0-48e5-8160-7574d9c21eff"
      },
      "outputs": [
        {
          "output_type": "stream",
          "name": "stdout",
          "text": [
            "text:  b\"This was an absolutely terrible movie. Don't be lured in by Christopher Walken or Michael Ironside. Both are great actors, but this must simply be their worst role in history. Even their great acting could not redeem this movie's ridiculous storyline. This movie is an early nineties US propaganda piece. The most pathetic scenes were those when the Columbian rebels were making their cases for revolutions. Maria Conchita Alonso appeared phony, and her pseudo-love affair with Walken was nothing but a pathetic emotional plug in a movie that was devoid of any real meaning. I am disappointed that there are movies like this, ruining actor's like Christopher Walken's good name. I could barely sit through it.\"\n",
            "label:  0\n"
          ]
        }
      ],
      "source": [
        "for example, label in train_dataset.take(1):\n",
        "  print('text: ', example.numpy())\n",
        "  print('label: ', label.numpy())"
      ]
    },
    {
      "cell_type": "markdown",
      "metadata": {
        "id": "rxD-w6sZbVib"
      },
      "source": [
        "Berikutnya acak data untuk pelatihan dan membuat kumpulan pasangan (teks, label) ini:"
      ]
    },
    {
      "cell_type": "code",
      "execution_count": 5,
      "metadata": {
        "colab": {
          "base_uri": "https://localhost:8080/"
        },
        "id": "9YbiEN77bYK6",
        "outputId": "408450ac-a6e2-4362-e5af-e765e0dc19ae"
      },
      "outputs": [
        {
          "output_type": "stream",
          "name": "stdout",
          "text": [
            "texts:  [b\"hi, im scott (A.K.A woody7739) i Love the film Twisted Desire, And i love watching Melissa Joan Hart on the t.v as i think she is fine. I am a real fan of sabrina the teenage witch too, so this helped my watch it (don't ask). i love the way that nicole plans out her parents murder very carfully, as she makes sure that someone else pulls the trigger and practices on the bottles, so she wont give away her fingerprints (a very well planned out idea), back i guess it all backfired on nicole as she got caught as her old boyfriend comes along and puts a hidden camera under his shirt. i give this film a nine out of ten, and put it in MY top 10 films list. And last but not least if anyone see's this film in the shops please tell me as i seen it on tv and didn't record it. bye\"\n",
            " b'I saw this film last night (about 102 minutes) and don\\'t know what kept me in my seat. I guess I just expected a film with Gere would have some value in it eventually but nothing of value ever came on the screen. The story is a silly excuse to pile on shot after shot of bondage and torture. There is not a character in the film that does anything like real life. The cutting \"style\" relies on jump cuts, mini flashbacks and overprinting to give weight to this vapid setup of a gang of sadists apparently running free for years and SURPRISE the leader is the \"victim\" of an executed killer. I don\\'t see how Gere, a Buddhist, got involved in this violent, sexist trash.'\n",
            " b\"This movie has some of the most awesome cars I've ever seen in a movie, and definitely the hottest women, but I would have to say it is still one of the worst movies I've ever seen.<br /><br />Here is the plot, and if you read it with a little inflection, you have the acting as well.<br /><br />Beginning, bring in characters, hot woman singing (obvious lip sync). Music agent or producer comes in, thinks that she is awesome asks her to race. She turns down, too many bad memories. Flash to war hero, back from war, has several fights, and becomes movie hero with attitude that he is better than everyone. Drive off in fast exotic car. Brother races, then dies. Hero to avenge death, cut away to getting weapons from friend. (You have never seen this friend before or after, but seems to really care about him) Are you sure you want to do this; Yes; I mean are you really sure; Yes, give me weapons; are you REALLY sure; Yes; OK, I guess I can't talk you out of it, be careful man, I love you.<br /><br />Now he goes to blow up his uncles house who owned the car his brother drove. Finds woman, decides to rescue her, She drives off, and he doesn't finish killing his uncle. Now there will be a race to finish the movie. Oh yeah, need to throw in one more scene with bad people coming in to beat up people that don't really matter, but maybe it adds a little plot. Race is not even that exciting, of course it ends with two cars racing, and one that should win throws in a surprise ending.<br /><br />OK, I just saved you $7.00. You can send all of your money to me, because I should have given you the same amount of enjoyment as this movie does. Don't get me wrong, the cars are awesome, and Nadija is beautiful, but it is truly an awful movie.\"]\n",
            "\n",
            "labels:  [1 0 0]\n"
          ]
        }
      ],
      "source": [
        "BUFFER_SIZE = 10000\n",
        "BATCH_SIZE = 64\n",
        "\n",
        "train_dataset = train_dataset.shuffle(BUFFER_SIZE).batch(BATCH_SIZE).prefetch(tf.data.AUTOTUNE)\n",
        "test_dataset = test_dataset.batch(BATCH_SIZE).prefetch(tf.data.AUTOTUNE)\n",
        "\n",
        "for example, label in train_dataset.take(1):\n",
        "  print('texts: ', example.numpy()[:3])\n",
        "  print()\n",
        "  print('labels: ', label.numpy()[:3])\n"
      ]
    },
    {
      "cell_type": "markdown",
      "metadata": {
        "id": "QqJsk8EFXA71"
      },
      "source": [
        "### **Buat Teks Encoder**\n",
        "\n",
        "Teks mentah yang dimuat oleh tfds perlu diproses sebelum dapat digunakan dalam model. Cara termudah memproses teks untuk pelatihan adalah menggunakan lapisan TextVectorization. Lapisan ini memiliki banyak kemampuan, namun pada tutorial ini menggunakan perilaku default. Buat lapisan tersebut, dan teruskan teks kumpulan data ke metode .adapt lapisan:"
      ]
    },
    {
      "cell_type": "code",
      "execution_count": 6,
      "metadata": {
        "id": "OdZn5yhGcJlr"
      },
      "outputs": [],
      "source": [
        "VOCAB_SIZE = 1000\n",
        "encoder = tf.keras.layers.TextVectorization(\n",
        "    max_tokens=VOCAB_SIZE)\n",
        "encoder.adapt(train_dataset.map(lambda text, label: text))"
      ]
    },
    {
      "cell_type": "markdown",
      "metadata": {
        "id": "NlH1eBQAcKa1"
      },
      "source": [
        "Metode .adapt mengatur kosakata lapisan. 20 token pertama dapat dilihat dengan kode berikut. Setelah padding dan token yang tidak diketahui, mereka diurutkan berdasarkan frekuensi:"
      ]
    },
    {
      "cell_type": "code",
      "execution_count": 7,
      "metadata": {
        "colab": {
          "base_uri": "https://localhost:8080/"
        },
        "id": "DZRwOIxTcN78",
        "outputId": "393e9653-1bd9-4d0d-95f2-5ad2776119c1"
      },
      "outputs": [
        {
          "output_type": "execute_result",
          "data": {
            "text/plain": [
              "array(['', '[UNK]', 'the', 'and', 'a', 'of', 'to', 'is', 'in', 'it', 'i',\n",
              "       'this', 'that', 'br', 'was', 'as', 'for', 'with', 'movie', 'but'],\n",
              "      dtype='<U14')"
            ]
          },
          "metadata": {},
          "execution_count": 7
        }
      ],
      "source": [
        "vocab = np.array(encoder.get_vocabulary())\n",
        "vocab[:20]"
      ]
    },
    {
      "cell_type": "markdown",
      "metadata": {
        "id": "aZ-wTJ1DcP2D"
      },
      "source": [
        "Setelah kosakata diatur, lapisan dapat mengkodekan teks ke dalam indeks. Tensor indeks diberi bantalan 0 ke urutan terpanjang dalam batch (kecuali jika Anda menetapkan output_sequence_length tetap):"
      ]
    },
    {
      "cell_type": "code",
      "execution_count": 8,
      "metadata": {
        "colab": {
          "base_uri": "https://localhost:8080/"
        },
        "id": "a6cBW1wCcRU7",
        "outputId": "9509fb15-d632-43e9-88d0-03ff948bd1e7"
      },
      "outputs": [
        {
          "output_type": "execute_result",
          "data": {
            "text/plain": [
              "array([[  1, 142,   1, ...,   0,   0,   0],\n",
              "       [ 10, 208,  11, ...,   0,   0,   0],\n",
              "       [ 11,  18,  44, ...,   0,   0,   0]])"
            ]
          },
          "metadata": {},
          "execution_count": 8
        }
      ],
      "source": [
        "encoded_example = encoder(example)[:3].numpy()\n",
        "encoded_example"
      ]
    },
    {
      "cell_type": "markdown",
      "metadata": {
        "id": "VtMHUMw2cUnD"
      },
      "source": [
        "Dengan pengaturan default, prosesnya tidak dapat dibalik sepenuhnya. Ada dua alasan utama untuk itu:\n",
        "-Nilai default untuk argumen standarisasi preprocessing.TextVectorization adalah \"lower_and_strip_punctuation\".\n",
        "-Ukuran kosa kata yang terbatas dan kurangnya fallback berbasis karakter menghasilkan beberapa token yang tidak diketahui."
      ]
    },
    {
      "cell_type": "code",
      "execution_count": 9,
      "metadata": {
        "colab": {
          "base_uri": "https://localhost:8080/"
        },
        "id": "hUUWESljcV9P",
        "outputId": "33a57579-1cb7-4dfb-9140-f210e7bed2f6"
      },
      "outputs": [
        {
          "output_type": "stream",
          "name": "stdout",
          "text": [
            "Original:  b\"hi, im scott (A.K.A woody7739) i Love the film Twisted Desire, And i love watching Melissa Joan Hart on the t.v as i think she is fine. I am a real fan of sabrina the teenage witch too, so this helped my watch it (don't ask). i love the way that nicole plans out her parents murder very carfully, as she makes sure that someone else pulls the trigger and practices on the bottles, so she wont give away her fingerprints (a very well planned out idea), back i guess it all backfired on nicole as she got caught as her old boyfriend comes along and puts a hidden camera under his shirt. i give this film a nine out of ten, and put it in MY top 10 films list. And last but not least if anyone see's this film in the shops please tell me as i seen it on tv and didn't record it. bye\"\n",
            "Round-trip:  [UNK] im [UNK] [UNK] [UNK] i love the film [UNK] [UNK] and i love watching [UNK] [UNK] [UNK] on the tv as i think she is fine i am a real fan of [UNK] the [UNK] [UNK] too so this [UNK] my watch it dont ask i love the way that [UNK] [UNK] out her parents murder very [UNK] as she makes sure that someone else [UNK] the [UNK] and [UNK] on the [UNK] so she wont give away her [UNK] a very well [UNK] out idea back i guess it all [UNK] on [UNK] as she got [UNK] as her old [UNK] comes along and [UNK] a [UNK] camera under his [UNK] i give this film a [UNK] out of ten and put it in my top 10 films [UNK] and last but not least if anyone [UNK] this film in the [UNK] please tell me as i seen it on tv and didnt [UNK] it [UNK]                                                                                                                                                                                                                                                                                                                                                                                                                                                                                                                                                                                                                                                                                                                                                           \n",
            "\n",
            "Original:  b'I saw this film last night (about 102 minutes) and don\\'t know what kept me in my seat. I guess I just expected a film with Gere would have some value in it eventually but nothing of value ever came on the screen. The story is a silly excuse to pile on shot after shot of bondage and torture. There is not a character in the film that does anything like real life. The cutting \"style\" relies on jump cuts, mini flashbacks and overprinting to give weight to this vapid setup of a gang of sadists apparently running free for years and SURPRISE the leader is the \"victim\" of an executed killer. I don\\'t see how Gere, a Buddhist, got involved in this violent, sexist trash.'\n",
            "Round-trip:  i saw this film last night about [UNK] minutes and dont know what kept me in my [UNK] i guess i just expected a film with [UNK] would have some [UNK] in it eventually but nothing of [UNK] ever came on the screen the story is a silly [UNK] to [UNK] on shot after shot of [UNK] and [UNK] there is not a character in the film that does anything like real life the [UNK] style [UNK] on [UNK] [UNK] [UNK] [UNK] and [UNK] to give [UNK] to this [UNK] [UNK] of a [UNK] of [UNK] apparently running free for years and surprise the [UNK] is the [UNK] of an [UNK] killer i dont see how [UNK] a [UNK] got involved in this [UNK] [UNK] [UNK]                                                                                                                                                                                                                                                                                                                                                                                                                                                                                                                                                                                                                                                                                                                                                                                           \n",
            "\n",
            "Original:  b\"This movie has some of the most awesome cars I've ever seen in a movie, and definitely the hottest women, but I would have to say it is still one of the worst movies I've ever seen.<br /><br />Here is the plot, and if you read it with a little inflection, you have the acting as well.<br /><br />Beginning, bring in characters, hot woman singing (obvious lip sync). Music agent or producer comes in, thinks that she is awesome asks her to race. She turns down, too many bad memories. Flash to war hero, back from war, has several fights, and becomes movie hero with attitude that he is better than everyone. Drive off in fast exotic car. Brother races, then dies. Hero to avenge death, cut away to getting weapons from friend. (You have never seen this friend before or after, but seems to really care about him) Are you sure you want to do this; Yes; I mean are you really sure; Yes, give me weapons; are you REALLY sure; Yes; OK, I guess I can't talk you out of it, be careful man, I love you.<br /><br />Now he goes to blow up his uncles house who owned the car his brother drove. Finds woman, decides to rescue her, She drives off, and he doesn't finish killing his uncle. Now there will be a race to finish the movie. Oh yeah, need to throw in one more scene with bad people coming in to beat up people that don't really matter, but maybe it adds a little plot. Race is not even that exciting, of course it ends with two cars racing, and one that should win throws in a surprise ending.<br /><br />OK, I just saved you $7.00. You can send all of your money to me, because I should have given you the same amount of enjoyment as this movie does. Don't get me wrong, the cars are awesome, and Nadija is beautiful, but it is truly an awful movie.\"\n",
            "Round-trip:  this movie has some of the most [UNK] [UNK] ive ever seen in a movie and definitely the [UNK] women but i would have to say it is still one of the worst movies ive ever [UNK] br here is the plot and if you read it with a little [UNK] you have the acting as [UNK] br beginning bring in characters hot woman [UNK] obvious [UNK] [UNK] music [UNK] or [UNK] comes in [UNK] that she is [UNK] [UNK] her to [UNK] she turns down too many bad [UNK] [UNK] to war hero back from war has several [UNK] and becomes movie hero with [UNK] that he is better than everyone [UNK] off in fast [UNK] car brother [UNK] then [UNK] hero to [UNK] death cut away to getting [UNK] from friend you have never seen this friend before or after but seems to really care about him are you sure you want to do this yes i mean are you really sure yes give me [UNK] are you really sure yes ok i guess i cant talk you out of it be [UNK] man i love [UNK] br now he goes to [UNK] up his [UNK] house who [UNK] the car his brother [UNK] finds woman [UNK] to [UNK] her she [UNK] off and he doesnt [UNK] killing his [UNK] now there will be a [UNK] to [UNK] the movie oh [UNK] need to [UNK] in one more scene with bad people coming in to [UNK] up people that dont really matter but maybe it [UNK] a little plot [UNK] is not even that [UNK] of course it ends with two [UNK] [UNK] and one that should [UNK] [UNK] in a surprise [UNK] br ok i just [UNK] you [UNK] you can [UNK] all of your money to me because i should have given you the same [UNK] of [UNK] as this movie does dont get me wrong the [UNK] are [UNK] and [UNK] is beautiful but it is truly an awful movie                                                                                                                                                                                                                                                                                                                                                                                                                                                                                                                                                                          \n",
            "\n"
          ]
        }
      ],
      "source": [
        "for n in range(3):\n",
        "  print(\"Original: \", example[n].numpy())\n",
        "  print(\"Round-trip: \", \" \".join(vocab[encoded_example[n]]))\n",
        "  print()"
      ]
    },
    {
      "cell_type": "markdown",
      "metadata": {
        "id": "sCc0TeyvXBA8"
      },
      "source": [
        "### **Buat Model**"
      ]
    },
    {
      "cell_type": "code",
      "execution_count": 10,
      "metadata": {
        "id": "SZ6HUEticZdJ"
      },
      "outputs": [],
      "source": [
        "model = tf.keras.Sequential([\n",
        "    encoder,\n",
        "    tf.keras.layers.Embedding(\n",
        "        input_dim=len(encoder.get_vocabulary()),\n",
        "        output_dim=64,\n",
        "        # Use masking to handle the variable sequence lengths\n",
        "        mask_zero=True),\n",
        "    tf.keras.layers.Bidirectional(tf.keras.layers.LSTM(64)),\n",
        "    tf.keras.layers.Dense(64, activation='relu'),\n",
        "    tf.keras.layers.Dense(1)\n",
        "])"
      ]
    },
    {
      "cell_type": "code",
      "execution_count": 11,
      "metadata": {
        "colab": {
          "base_uri": "https://localhost:8080/"
        },
        "id": "TkJYJbGDca6T",
        "outputId": "82602626-cc96-4825-e937-baa6b598bbcf"
      },
      "outputs": [
        {
          "output_type": "stream",
          "name": "stdout",
          "text": [
            "[False, True, True, True, True]\n"
          ]
        }
      ],
      "source": [
        "print([layer.supports_masking for layer in model.layers])"
      ]
    },
    {
      "cell_type": "code",
      "execution_count": 12,
      "metadata": {
        "colab": {
          "base_uri": "https://localhost:8080/"
        },
        "id": "YrUYRP0bccWK",
        "outputId": "65fac04b-057d-46f6-9296-9c8f71b8bc48"
      },
      "outputs": [
        {
          "output_type": "stream",
          "name": "stdout",
          "text": [
            "1/1 [==============================] - 7s 7s/step\n",
            "[-0.01134945]\n"
          ]
        }
      ],
      "source": [
        "# predict on a sample text without padding.\n",
        "\n",
        "sample_text = ('The movie was cool. The animation and the graphics '\n",
        "               'were out of this world. I would recommend this movie.')\n",
        "predictions = model.predict(np.array([sample_text]))\n",
        "print(predictions[0])"
      ]
    },
    {
      "cell_type": "code",
      "execution_count": 13,
      "metadata": {
        "colab": {
          "base_uri": "https://localhost:8080/"
        },
        "id": "fP449ObFcd-K",
        "outputId": "d09b4f68-bbe6-4e90-f83c-679b80246f10"
      },
      "outputs": [
        {
          "output_type": "stream",
          "name": "stdout",
          "text": [
            "1/1 [==============================] - 0s 67ms/step\n",
            "[-0.01134945]\n"
          ]
        }
      ],
      "source": [
        "# predict on a sample text with padding\n",
        "\n",
        "padding = \"the \" * 2000\n",
        "predictions = model.predict(np.array([sample_text, padding]))\n",
        "print(predictions[0])"
      ]
    },
    {
      "cell_type": "code",
      "execution_count": 14,
      "metadata": {
        "id": "YE2KKTHgchRl"
      },
      "outputs": [],
      "source": [
        "model.compile(loss=tf.keras.losses.BinaryCrossentropy(from_logits=True),\n",
        "              optimizer=tf.keras.optimizers.Adam(1e-4),\n",
        "              metrics=['accuracy'])"
      ]
    },
    {
      "cell_type": "markdown",
      "metadata": {
        "id": "MLGHARkDXHqh"
      },
      "source": [
        "### **Train Model**"
      ]
    },
    {
      "cell_type": "code",
      "execution_count": 15,
      "metadata": {
        "colab": {
          "base_uri": "https://localhost:8080/"
        },
        "id": "hNURXj-QcjMd",
        "outputId": "b11f2204-50eb-424a-fc1e-490c3b900f42"
      },
      "outputs": [
        {
          "output_type": "stream",
          "name": "stdout",
          "text": [
            "Epoch 1/10\n",
            "391/391 [==============================] - 52s 107ms/step - loss: 0.6363 - accuracy: 0.5697 - val_loss: 0.4980 - val_accuracy: 0.7693\n",
            "Epoch 2/10\n",
            "391/391 [==============================] - 26s 65ms/step - loss: 0.4136 - accuracy: 0.8122 - val_loss: 0.3955 - val_accuracy: 0.8427\n",
            "Epoch 3/10\n",
            "391/391 [==============================] - 26s 65ms/step - loss: 0.3451 - accuracy: 0.8462 - val_loss: 0.3525 - val_accuracy: 0.8354\n",
            "Epoch 4/10\n",
            "391/391 [==============================] - 25s 63ms/step - loss: 0.3238 - accuracy: 0.8596 - val_loss: 0.3333 - val_accuracy: 0.8469\n",
            "Epoch 5/10\n",
            "391/391 [==============================] - 25s 62ms/step - loss: 0.3120 - accuracy: 0.8655 - val_loss: 0.3389 - val_accuracy: 0.8443\n",
            "Epoch 6/10\n",
            "391/391 [==============================] - 24s 62ms/step - loss: 0.3082 - accuracy: 0.8675 - val_loss: 0.3259 - val_accuracy: 0.8583\n",
            "Epoch 7/10\n",
            "391/391 [==============================] - 25s 64ms/step - loss: 0.3010 - accuracy: 0.8710 - val_loss: 0.3203 - val_accuracy: 0.8589\n",
            "Epoch 8/10\n",
            "391/391 [==============================] - 25s 64ms/step - loss: 0.2991 - accuracy: 0.8727 - val_loss: 0.3240 - val_accuracy: 0.8531\n",
            "Epoch 9/10\n",
            "391/391 [==============================] - 25s 64ms/step - loss: 0.2960 - accuracy: 0.8739 - val_loss: 0.3228 - val_accuracy: 0.8630\n",
            "Epoch 10/10\n",
            "391/391 [==============================] - 25s 63ms/step - loss: 0.2931 - accuracy: 0.8758 - val_loss: 0.3182 - val_accuracy: 0.8536\n"
          ]
        }
      ],
      "source": [
        "history = model.fit(train_dataset, epochs=10,\n",
        "                    validation_data=test_dataset,\n",
        "                    validation_steps=30)"
      ]
    },
    {
      "cell_type": "code",
      "execution_count": 16,
      "metadata": {
        "colab": {
          "base_uri": "https://localhost:8080/"
        },
        "id": "6vMJv6vMckrI",
        "outputId": "67be596f-7673-4ee5-9470-d9a736bedaa6"
      },
      "outputs": [
        {
          "output_type": "stream",
          "name": "stdout",
          "text": [
            "391/391 [==============================] - 12s 30ms/step - loss: 0.3137 - accuracy: 0.8588\n",
            "Test Loss: 0.3137408494949341\n",
            "Test Accuracy: 0.8588399887084961\n"
          ]
        }
      ],
      "source": [
        "test_loss, test_acc = model.evaluate(test_dataset)\n",
        "\n",
        "print('Test Loss:', test_loss)\n",
        "print('Test Accuracy:', test_acc)"
      ]
    },
    {
      "cell_type": "code",
      "execution_count": 17,
      "metadata": {
        "colab": {
          "base_uri": "https://localhost:8080/",
          "height": 679
        },
        "id": "5keCEtkwcmdm",
        "outputId": "2cdde365-3877-4ed9-fa90-3b630fecc5cb"
      },
      "outputs": [
        {
          "output_type": "execute_result",
          "data": {
            "text/plain": [
              "(0.0, 0.6534425526857376)"
            ]
          },
          "metadata": {},
          "execution_count": 17
        },
        {
          "output_type": "display_data",
          "data": {
            "text/plain": [
              "<Figure size 1600x800 with 2 Axes>"
            ],
            "image/png": "[encoded data removed]"
          },
          "metadata": {}
        }
      ],
      "source": [
        "plt.figure(figsize=(16, 8))\n",
        "plt.subplot(1, 2, 1)\n",
        "plot_graphs(history, 'accuracy')\n",
        "plt.ylim(None, 1)\n",
        "plt.subplot(1, 2, 2)\n",
        "plot_graphs(history, 'loss')\n",
        "plt.ylim(0, None)"
      ]
    },
    {
      "cell_type": "code",
      "execution_count": 18,
      "metadata": {
        "colab": {
          "base_uri": "https://localhost:8080/"
        },
        "id": "ppXVZ39xcofm",
        "outputId": "a0a2270c-c51e-43cc-dd1f-b7c866003b55"
      },
      "outputs": [
        {
          "output_type": "stream",
          "name": "stdout",
          "text": [
            "1/1 [==============================] - 3s 3s/step\n"
          ]
        }
      ],
      "source": [
        "sample_text = ('The movie was cool. The animation and the graphics '\n",
        "                'were out of this world. I would recommend this movie.')\n",
        "predictions = model.predict(np.array([sample_text]))"
      ]
    },
    {
      "cell_type": "markdown",
      "metadata": {
        "id": "Bjr_7ylCXHxd"
      },
      "source": [
        "### **Stack two or more LSTM layers**"
      ]
    },
    {
      "cell_type": "code",
      "execution_count": 20,
      "metadata": {
        "id": "qwLPU0n-W58M"
      },
      "outputs": [],
      "source": [
        "model = tf.keras.Sequential([\n",
        "    encoder,\n",
        "    tf.keras.layers.Embedding(len(encoder.get_vocabulary()), 64, mask_zero=True),\n",
        "    tf.keras.layers.Bidirectional(tf.keras.layers.LSTM(64, return_sequences=True)),\n",
        "    tf.keras.layers.Bidirectional(tf.keras.layers.LSTM(32)),\n",
        "    tf.keras.layers.Dense(64, activation='relu'),\n",
        "    tf.keras.layers.Dropout(0.5),\n",
        "    tf.keras.layers.Dense(1)\n",
        "])"
      ]
    },
    {
      "cell_type": "code",
      "execution_count": 21,
      "metadata": {
        "id": "eU_jtOwUcw2z"
      },
      "outputs": [],
      "source": [
        "model.compile(loss=tf.keras.losses.BinaryCrossentropy(from_logits=True),\n",
        "              optimizer=tf.keras.optimizers.Adam(1e-4),\n",
        "              metrics=['accuracy'])"
      ]
    },
    {
      "cell_type": "code",
      "execution_count": 22,
      "metadata": {
        "id": "xfGci0J3cyKW",
        "colab": {
          "base_uri": "https://localhost:8080/"
        },
        "outputId": "4b6239c3-1e58-42a6-a23d-d410accf71ad"
      },
      "outputs": [
        {
          "output_type": "stream",
          "name": "stdout",
          "text": [
            "Epoch 1/10\n",
            "391/391 [==============================] - 90s 183ms/step - loss: 0.6322 - accuracy: 0.5809 - val_loss: 0.4483 - val_accuracy: 0.7792\n",
            "Epoch 2/10\n",
            "391/391 [==============================] - 46s 117ms/step - loss: 0.3894 - accuracy: 0.8275 - val_loss: 0.3562 - val_accuracy: 0.8443\n",
            "Epoch 3/10\n",
            "391/391 [==============================] - 47s 118ms/step - loss: 0.3417 - accuracy: 0.8557 - val_loss: 0.3335 - val_accuracy: 0.8443\n",
            "Epoch 4/10\n",
            "391/391 [==============================] - 46s 117ms/step - loss: 0.3228 - accuracy: 0.8626 - val_loss: 0.3571 - val_accuracy: 0.8557\n",
            "Epoch 5/10\n",
            "391/391 [==============================] - 46s 118ms/step - loss: 0.3141 - accuracy: 0.8668 - val_loss: 0.3216 - val_accuracy: 0.8583\n",
            "Epoch 6/10\n",
            "391/391 [==============================] - 47s 119ms/step - loss: 0.3093 - accuracy: 0.8690 - val_loss: 0.3207 - val_accuracy: 0.8604\n",
            "Epoch 7/10\n",
            "391/391 [==============================] - 46s 117ms/step - loss: 0.3035 - accuracy: 0.8708 - val_loss: 0.3182 - val_accuracy: 0.8609\n",
            "Epoch 8/10\n",
            "391/391 [==============================] - 47s 120ms/step - loss: 0.2995 - accuracy: 0.8732 - val_loss: 0.3320 - val_accuracy: 0.8516\n",
            "Epoch 9/10\n",
            "391/391 [==============================] - 47s 120ms/step - loss: 0.2987 - accuracy: 0.8731 - val_loss: 0.3371 - val_accuracy: 0.8609\n",
            "Epoch 10/10\n",
            "391/391 [==============================] - 46s 117ms/step - loss: 0.2964 - accuracy: 0.8733 - val_loss: 0.3186 - val_accuracy: 0.8625\n"
          ]
        }
      ],
      "source": [
        "history = model.fit(train_dataset, epochs=10,\n",
        "                     validation_data=test_dataset,\n",
        "                     validation_steps=30)"
      ]
    },
    {
      "cell_type": "code",
      "execution_count": 23,
      "metadata": {
        "id": "UkIW6JjLc5IH",
        "colab": {
          "base_uri": "https://localhost:8080/"
        },
        "outputId": "68fbd3ee-edcc-4cea-d476-e0f0227805b3"
      },
      "outputs": [
        {
          "output_type": "stream",
          "name": "stdout",
          "text": [
            "391/391 [==============================] - 20s 50ms/step - loss: 0.3140 - accuracy: 0.8602\n",
            "Test Loss: 0.3140273690223694\n",
            "Test Accuracy: 0.8602399826049805\n"
          ]
        }
      ],
      "source": [
        "test_loss, test_acc = model.evaluate(test_dataset)\n",
        "\n",
        "print('Test Loss:', test_loss)\n",
        "print('Test Accuracy:', test_acc)"
      ]
    },
    {
      "cell_type": "code",
      "execution_count": 24,
      "metadata": {
        "id": "lcxeLW57dAME",
        "colab": {
          "base_uri": "https://localhost:8080/"
        },
        "outputId": "4e2aa0ee-16c8-418a-8471-b32d635e73dc"
      },
      "outputs": [
        {
          "output_type": "stream",
          "name": "stdout",
          "text": [
            "1/1 [==============================] - 5s 5s/step\n",
            "[[-2.2090652]]\n"
          ]
        }
      ],
      "source": [
        "# predict on a sample text without padding.\n",
        "\n",
        "sample_text = ('The movie was not good. The animation and the graphics '\n",
        "                'were terrible. I would not recommend this movie.')\n",
        "predictions = model.predict(np.array([sample_text]))\n",
        "print(predictions)"
      ]
    },
    {
      "cell_type": "code",
      "execution_count": 25,
      "metadata": {
        "id": "mY6i_aIDdBl0",
        "colab": {
          "base_uri": "https://localhost:8080/",
          "height": 512
        },
        "outputId": "23b3ffa6-3a4f-4d70-aaee-0d39c0d45c80"
      },
      "outputs": [
        {
          "output_type": "display_data",
          "data": {
            "text/plain": [
              "<Figure size 1600x600 with 2 Axes>"
            ],
            "image/png": "[encoded data removed]"
          },
          "metadata": {}
        }
      ],
      "source": [
        "plt.figure(figsize=(16, 6))\n",
        "plt.subplot(1, 2, 1)\n",
        "plot_graphs(history, 'accuracy')\n",
        "plt.subplot(1, 2, 2)\n",
        "plot_graphs(history, 'loss')"
      ]
    },
    {
      "cell_type": "markdown",
      "metadata": {
        "id": "O_JjuG4bWlb6"
      },
      "source": [
        "## **Praktikum 2 - Generator Teks dengan RNN**"
      ]
    },
    {
      "cell_type": "markdown",
      "metadata": {
        "id": "JD_v40Z9aSqZ"
      },
      "source": [
        "### **Setup**"
      ]
    },
    {
      "cell_type": "code",
      "execution_count": 26,
      "metadata": {
        "id": "zodOQQScdIRc"
      },
      "outputs": [],
      "source": [
        "import tensorflow as tf\n",
        "import numpy as np\n",
        "import os\n",
        "import time"
      ]
    },
    {
      "cell_type": "code",
      "execution_count": 27,
      "metadata": {
        "id": "kWDQSRdDdJnh",
        "colab": {
          "base_uri": "https://localhost:8080/"
        },
        "outputId": "8ef62706-514c-4247-906d-555c1a4ffb5f"
      },
      "outputs": [
        {
          "output_type": "stream",
          "name": "stdout",
          "text": [
            "Downloading data from https://storage.googleapis.com/download.tensorflow.org/data/shakespeare.txt\n",
            "1115394/1115394 [==============================] - 0s 0us/step\n"
          ]
        }
      ],
      "source": [
        "path_to_file = tf.keras.utils.get_file('shakespeare.txt', 'https://storage.googleapis.com/download.tensorflow.org/data/shakespeare.txt')"
      ]
    },
    {
      "cell_type": "markdown",
      "metadata": {
        "id": "y3lNASWSaUKw"
      },
      "source": [
        "### **Load Data**"
      ]
    },
    {
      "cell_type": "code",
      "execution_count": 28,
      "metadata": {
        "id": "iXPAohGAdLDF",
        "colab": {
          "base_uri": "https://localhost:8080/"
        },
        "outputId": "82dd7a3c-b3ce-4df6-a459-9127f22bbe5c"
      },
      "outputs": [
        {
          "output_type": "stream",
          "name": "stdout",
          "text": [
            "Length of text: 1115394 characters\n"
          ]
        }
      ],
      "source": [
        "# Read, then decode for py2 compat.\n",
        "text = open(path_to_file, 'rb').read().decode(encoding='utf-8')\n",
        "# length of text is the number of characters in it\n",
        "print(f'Length of text: {len(text)} characters')"
      ]
    },
    {
      "cell_type": "code",
      "execution_count": 29,
      "metadata": {
        "id": "bcNIA9dSdMHZ",
        "colab": {
          "base_uri": "https://localhost:8080/"
        },
        "outputId": "b669d7ac-390b-4df0-852a-f302224185d7"
      },
      "outputs": [
        {
          "output_type": "stream",
          "name": "stdout",
          "text": [
            "First Citizen:\n",
            "Before we proceed any further, hear me speak.\n",
            "\n",
            "All:\n",
            "Speak, speak.\n",
            "\n",
            "First Citizen:\n",
            "You are all resolved rather to die than to famish?\n",
            "\n",
            "All:\n",
            "Resolved. resolved.\n",
            "\n",
            "First Citizen:\n",
            "First, you know Caius Marcius is chief enemy to the people.\n",
            "\n"
          ]
        }
      ],
      "source": [
        "# Take a look at the first 250 characters in text\n",
        "print(text[:250])"
      ]
    },
    {
      "cell_type": "code",
      "execution_count": 30,
      "metadata": {
        "id": "0L0dI5podNCx",
        "colab": {
          "base_uri": "https://localhost:8080/"
        },
        "outputId": "75b7419f-a4b9-4d4f-a5bf-6adf4ddc8a13"
      },
      "outputs": [
        {
          "output_type": "stream",
          "name": "stdout",
          "text": [
            "65 unique characters\n"
          ]
        }
      ],
      "source": [
        "# The unique characters in the file\n",
        "vocab = sorted(set(text))\n",
        "print(f'{len(vocab)} unique characters')"
      ]
    },
    {
      "cell_type": "markdown",
      "metadata": {
        "id": "0_zBchrJaUSI"
      },
      "source": [
        "### **Olah Teks**"
      ]
    },
    {
      "cell_type": "code",
      "execution_count": 31,
      "metadata": {
        "id": "IlcLKx2ddOtC",
        "colab": {
          "base_uri": "https://localhost:8080/"
        },
        "outputId": "3aa7a852-8c02-4fd2-dd51-c4be6b511884"
      },
      "outputs": [
        {
          "output_type": "execute_result",
          "data": {
            "text/plain": [
              "<tf.RaggedTensor [[b'a', b'b', b'c', b'd', b'e', b'f', b'g'], [b'x', b'y', b'z']]>"
            ]
          },
          "metadata": {},
          "execution_count": 31
        }
      ],
      "source": [
        "example_texts = ['abcdefg', 'xyz']\n",
        "chars = tf.strings.unicode_split(example_texts, input_encoding='UTF-8')\n",
        "chars"
      ]
    },
    {
      "cell_type": "code",
      "execution_count": 32,
      "metadata": {
        "id": "ujEuESqzdPoz"
      },
      "outputs": [],
      "source": [
        "ids_from_chars = tf.keras.layers.StringLookup(\n",
        "vocabulary=list(vocab), mask_token=None)"
      ]
    },
    {
      "cell_type": "code",
      "execution_count": 33,
      "metadata": {
        "id": "FTnlx1wZdQmW",
        "colab": {
          "base_uri": "https://localhost:8080/"
        },
        "outputId": "502358ec-a173-45f3-ed3a-817c7eca4d52"
      },
      "outputs": [
        {
          "output_type": "execute_result",
          "data": {
            "text/plain": [
              "<tf.RaggedTensor [[40, 41, 42, 43, 44, 45, 46], [63, 64, 65]]>"
            ]
          },
          "metadata": {},
          "execution_count": 33
        }
      ],
      "source": [
        "ids = ids_from_chars(chars)\n",
        "ids"
      ]
    },
    {
      "cell_type": "code",
      "execution_count": 34,
      "metadata": {
        "id": "XfgGdUyZdRpO"
      },
      "outputs": [],
      "source": [
        "chars_from_ids = tf.keras.layers.StringLookup(\n",
        "    vocabulary=ids_from_chars.get_vocabulary(), invert=True, mask_token=None)"
      ]
    },
    {
      "cell_type": "code",
      "execution_count": 35,
      "metadata": {
        "id": "_8XwpBrPdYqT",
        "colab": {
          "base_uri": "https://localhost:8080/"
        },
        "outputId": "963199b2-9ab3-4241-e336-beb3d5dd0caf"
      },
      "outputs": [
        {
          "output_type": "execute_result",
          "data": {
            "text/plain": [
              "<tf.RaggedTensor [[b'a', b'b', b'c', b'd', b'e', b'f', b'g'], [b'x', b'y', b'z']]>"
            ]
          },
          "metadata": {},
          "execution_count": 35
        }
      ],
      "source": [
        "chars = chars_from_ids(ids)\n",
        "chars"
      ]
    },
    {
      "cell_type": "code",
      "execution_count": 36,
      "metadata": {
        "id": "f8WcRL9EdZ9L",
        "colab": {
          "base_uri": "https://localhost:8080/"
        },
        "outputId": "40443eb6-e467-406b-e443-e2c268d94977"
      },
      "outputs": [
        {
          "output_type": "execute_result",
          "data": {
            "text/plain": [
              "array([b'abcdefg', b'xyz'], dtype=object)"
            ]
          },
          "metadata": {},
          "execution_count": 36
        }
      ],
      "source": [
        "tf.strings.reduce_join(chars, axis=-1).numpy()"
      ]
    },
    {
      "cell_type": "code",
      "execution_count": 37,
      "metadata": {
        "id": "HmiS1ljNdbIk"
      },
      "outputs": [],
      "source": [
        "def text_from_ids(ids):\n",
        "    return tf.strings.reduce_join(chars_from_ids(ids), axis=-1)"
      ]
    },
    {
      "cell_type": "markdown",
      "metadata": {
        "id": "Dwy98cgZaUWK"
      },
      "source": [
        "### **Prediksi**"
      ]
    },
    {
      "cell_type": "code",
      "execution_count": 38,
      "metadata": {
        "id": "WdCEiEWgdcpk",
        "colab": {
          "base_uri": "https://localhost:8080/"
        },
        "outputId": "e3df1928-3b70-42e5-b323-edf32fca8d7b"
      },
      "outputs": [
        {
          "output_type": "execute_result",
          "data": {
            "text/plain": [
              "<tf.Tensor: shape=(1115394,), dtype=int64, numpy=array([19, 48, 57, ..., 46,  9,  1])>"
            ]
          },
          "metadata": {},
          "execution_count": 38
        }
      ],
      "source": [
        "all_ids = ids_from_chars(tf.strings.unicode_split(text,'UTF-8'))\n",
        "all_ids"
      ]
    },
    {
      "cell_type": "code",
      "execution_count": 39,
      "metadata": {
        "id": "ZN6L1FDVddmk"
      },
      "outputs": [],
      "source": [
        "ids_dataset =tf.data.Dataset.from_tensor_slices(all_ids)"
      ]
    },
    {
      "cell_type": "code",
      "execution_count": 40,
      "metadata": {
        "id": "DXbj5TDPdelR",
        "colab": {
          "base_uri": "https://localhost:8080/"
        },
        "outputId": "1101f869-6711-43a5-a140-824307d46c85"
      },
      "outputs": [
        {
          "output_type": "stream",
          "name": "stdout",
          "text": [
            "F\n",
            "i\n",
            "r\n",
            "s\n",
            "t\n",
            " \n",
            "C\n",
            "i\n",
            "t\n",
            "i\n"
          ]
        }
      ],
      "source": [
        "for ids in ids_dataset.take(10):\n",
        "    print(chars_from_ids(ids).numpy().decode('utf-8'))"
      ]
    },
    {
      "cell_type": "code",
      "execution_count": 41,
      "metadata": {
        "id": "ah2u6M0edfpK"
      },
      "outputs": [],
      "source": [
        "seq_length = 100"
      ]
    },
    {
      "cell_type": "code",
      "execution_count": 42,
      "metadata": {
        "id": "9TGRgcDTdgir",
        "colab": {
          "base_uri": "https://localhost:8080/"
        },
        "outputId": "f2f88d6d-d85b-489a-c70b-bcbeffebcdd0"
      },
      "outputs": [
        {
          "output_type": "stream",
          "name": "stdout",
          "text": [
            "tf.Tensor(\n",
            "[b'F' b'i' b'r' b's' b't' b' ' b'C' b'i' b't' b'i' b'z' b'e' b'n' b':'\n",
            " b'\\n' b'B' b'e' b'f' b'o' b'r' b'e' b' ' b'w' b'e' b' ' b'p' b'r' b'o'\n",
            " b'c' b'e' b'e' b'd' b' ' b'a' b'n' b'y' b' ' b'f' b'u' b'r' b't' b'h'\n",
            " b'e' b'r' b',' b' ' b'h' b'e' b'a' b'r' b' ' b'm' b'e' b' ' b's' b'p'\n",
            " b'e' b'a' b'k' b'.' b'\\n' b'\\n' b'A' b'l' b'l' b':' b'\\n' b'S' b'p' b'e'\n",
            " b'a' b'k' b',' b' ' b's' b'p' b'e' b'a' b'k' b'.' b'\\n' b'\\n' b'F' b'i'\n",
            " b'r' b's' b't' b' ' b'C' b'i' b't' b'i' b'z' b'e' b'n' b':' b'\\n' b'Y'\n",
            " b'o' b'u' b' '], shape=(101,), dtype=string)\n"
          ]
        }
      ],
      "source": [
        "sequences = ids_dataset.batch(seq_length+1, drop_remainder=True)\n",
        "\n",
        "for seq in sequences.take(1):\n",
        "  print(chars_from_ids(seq))"
      ]
    },
    {
      "cell_type": "code",
      "execution_count": 43,
      "metadata": {
        "id": "9aWhBeMmdhhl",
        "colab": {
          "base_uri": "https://localhost:8080/"
        },
        "outputId": "99304dcb-96cd-445f-8e27-f741968702bd"
      },
      "outputs": [
        {
          "output_type": "stream",
          "name": "stdout",
          "text": [
            "b'First Citizen:\\nBefore we proceed any further, hear me speak.\\n\\nAll:\\nSpeak, speak.\\n\\nFirst Citizen:\\nYou '\n",
            "b'are all resolved rather to die than to famish?\\n\\nAll:\\nResolved. resolved.\\n\\nFirst Citizen:\\nFirst, you k'\n",
            "b\"now Caius Marcius is chief enemy to the people.\\n\\nAll:\\nWe know't, we know't.\\n\\nFirst Citizen:\\nLet us ki\"\n",
            "b\"ll him, and we'll have corn at our own price.\\nIs't a verdict?\\n\\nAll:\\nNo more talking on't; let it be d\"\n",
            "b'one: away, away!\\n\\nSecond Citizen:\\nOne word, good citizens.\\n\\nFirst Citizen:\\nWe are accounted poor citi'\n"
          ]
        }
      ],
      "source": [
        "for seq in sequences.take(5):\n",
        "    print(text_from_ids(seq).numpy())"
      ]
    },
    {
      "cell_type": "code",
      "execution_count": 44,
      "metadata": {
        "id": "cfVdlbpPdi0l"
      },
      "outputs": [],
      "source": [
        "def split_input_target(sequence):\n",
        "    input_text = sequence[:-1]\n",
        "    target_text = sequence[1:]\n",
        "    return input_text, target_text"
      ]
    },
    {
      "cell_type": "code",
      "execution_count": 45,
      "metadata": {
        "id": "4rsdCzCedkeE",
        "colab": {
          "base_uri": "https://localhost:8080/"
        },
        "outputId": "4bc2bcee-6029-4bc3-a866-d022c2ad1e91"
      },
      "outputs": [
        {
          "output_type": "execute_result",
          "data": {
            "text/plain": [
              "(['T', 'e', 'n', 's', 'o', 'r', 'f', 'l', 'o'],\n",
              " ['e', 'n', 's', 'o', 'r', 'f', 'l', 'o', 'w'])"
            ]
          },
          "metadata": {},
          "execution_count": 45
        }
      ],
      "source": [
        "split_input_target(list(\"Tensorflow\"))"
      ]
    },
    {
      "cell_type": "code",
      "execution_count": 46,
      "metadata": {
        "id": "-rkJX8_adlXl"
      },
      "outputs": [],
      "source": [
        "dataset = sequences.map(split_input_target)"
      ]
    },
    {
      "cell_type": "code",
      "execution_count": 47,
      "metadata": {
        "id": "FQrIWYOVdmja",
        "colab": {
          "base_uri": "https://localhost:8080/"
        },
        "outputId": "abd148c5-af8c-4dd4-a5f8-dc05e2f16570"
      },
      "outputs": [
        {
          "output_type": "stream",
          "name": "stdout",
          "text": [
            "Input : b'First Citizen:\\nBefore we proceed any further, hear me speak.\\n\\nAll:\\nSpeak, speak.\\n\\nFirst Citizen:\\nYou'\n",
            "Target: b'irst Citizen:\\nBefore we proceed any further, hear me speak.\\n\\nAll:\\nSpeak, speak.\\n\\nFirst Citizen:\\nYou '\n"
          ]
        }
      ],
      "source": [
        "for input_example, target_example in dataset.take(1):\n",
        "    print(\"Input :\", text_from_ids(input_example).numpy())\n",
        "    print(\"Target:\", text_from_ids(target_example).numpy())"
      ]
    },
    {
      "cell_type": "markdown",
      "metadata": {
        "id": "LCJYfMz8aUZg"
      },
      "source": [
        "### **Membuat Batch Training**"
      ]
    },
    {
      "cell_type": "code",
      "execution_count": 48,
      "metadata": {
        "id": "v53tXNgXdn7v",
        "colab": {
          "base_uri": "https://localhost:8080/"
        },
        "outputId": "d6e60440-38b1-47fc-fa0a-269d47a4402d"
      },
      "outputs": [
        {
          "output_type": "execute_result",
          "data": {
            "text/plain": [
              "<_PrefetchDataset element_spec=(TensorSpec(shape=(64, 100), dtype=tf.int64, name=None), TensorSpec(shape=(64, 100), dtype=tf.int64, name=None))>"
            ]
          },
          "metadata": {},
          "execution_count": 48
        }
      ],
      "source": [
        "# Batch size\n",
        "BATCH_SIZE = 64\n",
        "\n",
        "# Buffer size to shuffle the dataset\n",
        "# (TF data is designed to work with possibly infinite sequences,\n",
        "# so it doesn't attempt to shuffle the entire sequence in memory. Instead,\n",
        "# it maintains a buffer in which it shuffles elements).\n",
        "BUFFER_SIZE = 10000\n",
        "\n",
        "dataset = (\n",
        "    dataset\n",
        "    .shuffle(BUFFER_SIZE)\n",
        "    .batch(BATCH_SIZE, drop_remainder=True)\n",
        "    .prefetch(tf.data.experimental.AUTOTUNE))\n",
        "\n",
        "dataset"
      ]
    },
    {
      "cell_type": "markdown",
      "metadata": {
        "id": "DHV2PzlKaUcz"
      },
      "source": [
        "### **Buat Model**"
      ]
    },
    {
      "cell_type": "code",
      "execution_count": 49,
      "metadata": {
        "id": "fG4XVtvcdqH5"
      },
      "outputs": [],
      "source": [
        "# Length of the vocabulary in StringLookup Layer\n",
        "vocab_size = len(ids_from_chars.get_vocabulary())\n",
        "\n",
        "# The embedding dimension\n",
        "embedding_dim = 256\n",
        "\n",
        "# Number of RNN units\n",
        "rnn_units = 1024"
      ]
    },
    {
      "cell_type": "code",
      "execution_count": 50,
      "metadata": {
        "id": "RevXqP-Gdrj0"
      },
      "outputs": [],
      "source": [
        "class MyModel(tf.keras.Model):\n",
        "  def __init__(self, vocab_size, embedding_dim, rnn_units):\n",
        "    super().__init__(self)\n",
        "    self.embedding = tf.keras.layers.Embedding(vocab_size, embedding_dim)\n",
        "    self.gru = tf.keras.layers.GRU(rnn_units,\n",
        "                                   return_sequences=True,\n",
        "                                   return_state=True)\n",
        "    self.dense = tf.keras.layers.Dense(vocab_size)\n",
        "\n",
        "  def call(self, inputs, states=None, return_state=False, training=False):\n",
        "    x = inputs\n",
        "    x = self.embedding(x, training=training)\n",
        "    if states is None:\n",
        "      states = self.gru.get_initial_state(x)\n",
        "    x, states = self.gru(x, initial_state=states, training=training)\n",
        "    x = self.dense(x, training=training)\n",
        "\n",
        "    if return_state:\n",
        "      return x, states\n",
        "    else:\n",
        "      return x"
      ]
    },
    {
      "cell_type": "code",
      "execution_count": 51,
      "metadata": {
        "id": "fCfKAUHRdt-z"
      },
      "outputs": [],
      "source": [
        "model = MyModel(\n",
        "    vocab_size=vocab_size,\n",
        "    embedding_dim=embedding_dim,\n",
        "    rnn_units=rnn_units)"
      ]
    },
    {
      "cell_type": "markdown",
      "metadata": {
        "id": "hKbfRsCxaU3I"
      },
      "source": [
        "### **Uji Model**"
      ]
    },
    {
      "cell_type": "code",
      "execution_count": 52,
      "metadata": {
        "id": "zuTmAWt8dvvb",
        "colab": {
          "base_uri": "https://localhost:8080/"
        },
        "outputId": "f4d944d9-4464-4722-c4c8-da75f486e1e1"
      },
      "outputs": [
        {
          "output_type": "stream",
          "name": "stdout",
          "text": [
            "(64, 100, 66) # (batch_size, sequence_length, vocab_size)\n"
          ]
        }
      ],
      "source": [
        "for input_example_batch, target_example_batch in dataset.take(1):\n",
        "    example_batch_predictions = model(input_example_batch)\n",
        "    print(example_batch_predictions.shape, \"# (batch_size, sequence_length, vocab_size)\")"
      ]
    },
    {
      "cell_type": "code",
      "execution_count": 53,
      "metadata": {
        "id": "UXH3pvFxdwrZ",
        "colab": {
          "base_uri": "https://localhost:8080/"
        },
        "outputId": "102beedf-ef03-4d91-e11f-56450efca740"
      },
      "outputs": [
        {
          "output_type": "stream",
          "name": "stdout",
          "text": [
            "Model: \"my_model\"\n",
            "_________________________________________________________________\n",
            " Layer (type)                Output Shape              Param #   \n",
            "=================================================================\n",
            " embedding_2 (Embedding)     multiple                  16896     \n",
            "                                                                 \n",
            " gru (GRU)                   multiple                  3938304   \n",
            "                                                                 \n",
            " dense_4 (Dense)             multiple                  67650     \n",
            "                                                                 \n",
            "=================================================================\n",
            "Total params: 4022850 (15.35 MB)\n",
            "Trainable params: 4022850 (15.35 MB)\n",
            "Non-trainable params: 0 (0.00 Byte)\n",
            "_________________________________________________________________\n"
          ]
        }
      ],
      "source": [
        "model.summary()"
      ]
    },
    {
      "cell_type": "code",
      "execution_count": 56,
      "metadata": {
        "id": "usmXQOrhdxpk"
      },
      "outputs": [],
      "source": [
        "sampled_indices = tf.random.categorical(example_batch_predictions[0], num_samples=1)\n",
        "sampled_indices = tf.squeeze(sampled_indices, axis=-1).numpy()"
      ]
    },
    {
      "cell_type": "code",
      "execution_count": 57,
      "metadata": {
        "id": "clu2NYP5dy1V",
        "colab": {
          "base_uri": "https://localhost:8080/"
        },
        "outputId": "047f14dc-2119-4cfe-b53f-95789b142311"
      },
      "outputs": [
        {
          "output_type": "execute_result",
          "data": {
            "text/plain": [
              "array([20, 38, 20, 54, 10, 61, 37,  7, 23, 63, 30, 43, 15, 58, 29,  9, 53,\n",
              "        2, 45, 63, 45, 11, 16, 22, 23, 12, 51, 50,  1, 38, 63, 45,  3, 27,\n",
              "       47, 27, 34, 42,  1, 10, 18, 26, 20, 28, 41, 52,  1, 26, 26, 60, 10,\n",
              "       10,  4, 37, 38, 58, 28, 59, 21, 35,  3, 15,  6, 34, 27,  8, 52, 43,\n",
              "        0, 58, 42, 58, 21, 59, 42, 47, 42, 63, 43, 41, 33, 19, 14, 37, 50,\n",
              "       45, 31, 27, 53, 18, 37, 34, 52, 62, 14, 37, 13, 31, 38, 54])"
            ]
          },
          "metadata": {},
          "execution_count": 57
        }
      ],
      "source": [
        "sampled_indices"
      ]
    },
    {
      "cell_type": "code",
      "execution_count": 58,
      "metadata": {
        "id": "du7i8YPDdz6O",
        "colab": {
          "base_uri": "https://localhost:8080/"
        },
        "outputId": "a915a77e-04f2-4d4a-d221-dbfcbee3ee50"
      },
      "outputs": [
        {
          "output_type": "stream",
          "name": "stdout",
          "text": [
            "Input:\n",
            " b' a horse-drench. Is he\\nnot wounded? he was wont to come home wounded.\\n\\nVIRGILIA:\\nO, no, no, no.\\n\\nVOL'\n",
            "\n",
            "Next Char Predictions:\n",
            " b\"GYGo3vX,JxQdBsP.n fxf:CIJ;lk\\nYxf!NhNUc\\n3EMGObm\\nMMu33$XYsOtHV!B'UN-md[UNK]scsHtchcxdbTFAXkfRNnEXUmwAX?RYo\"\n"
          ]
        }
      ],
      "source": [
        "print(\"Input:\\n\", text_from_ids(input_example_batch[0]).numpy())\n",
        "print()\n",
        "print(\"Next Char Predictions:\\n\",text_from_ids(sampled_indices).numpy())"
      ]
    },
    {
      "cell_type": "markdown",
      "metadata": {
        "id": "XvOCmFY1aU6V"
      },
      "source": [
        "### **Train Model**"
      ]
    },
    {
      "cell_type": "code",
      "execution_count": 59,
      "metadata": {
        "id": "6_3rRI0fd4xv"
      },
      "outputs": [],
      "source": [
        "loss = tf.losses.SparseCategoricalCrossentropy(from_logits=True)"
      ]
    },
    {
      "cell_type": "code",
      "execution_count": 60,
      "metadata": {
        "id": "MRyW904td6FD",
        "colab": {
          "base_uri": "https://localhost:8080/"
        },
        "outputId": "da5b1a35-e7a4-4120-f1cf-a7c5a241e269"
      },
      "outputs": [
        {
          "output_type": "stream",
          "name": "stdout",
          "text": [
            "Prediction shape:  (64, 100, 66)  # (batch_size, sequence_length, vocab_size)\n",
            "Mean loss:         tf.Tensor(4.190209, shape=(), dtype=float32)\n"
          ]
        }
      ],
      "source": [
        "example_batch_mean_loss = loss(target_example_batch, example_batch_predictions)\n",
        "print(\"Prediction shape: \", example_batch_predictions.shape, \" # (batch_size, sequence_length, vocab_size)\")\n",
        "print(\"Mean loss:        \", example_batch_mean_loss)"
      ]
    },
    {
      "cell_type": "code",
      "execution_count": 61,
      "metadata": {
        "id": "b6HfFHEId7ix",
        "colab": {
          "base_uri": "https://localhost:8080/"
        },
        "outputId": "c6e9bb11-7828-4148-ca12-aeec18e5e28b"
      },
      "outputs": [
        {
          "output_type": "execute_result",
          "data": {
            "text/plain": [
              "66.03658"
            ]
          },
          "metadata": {},
          "execution_count": 61
        }
      ],
      "source": [
        "tf.exp(example_batch_mean_loss).numpy()"
      ]
    },
    {
      "cell_type": "code",
      "execution_count": 62,
      "metadata": {
        "id": "Bl5UAlYWd86V"
      },
      "outputs": [],
      "source": [
        "model.compile(optimizer='adam',loss=loss)"
      ]
    },
    {
      "cell_type": "code",
      "execution_count": 63,
      "metadata": {
        "id": "2zJx0VU0d-YR"
      },
      "outputs": [],
      "source": [
        "# Directory where the checkpoints will be saved\n",
        "checkpoint_dir = './training_checkpoints'\n",
        "# Name of the checkpoint files\n",
        "checkpoint_prefix = os.path.join(checkpoint_dir, \"ckpt_{epoch}\")\n",
        "\n",
        "checkpoint_callback = tf.keras.callbacks.ModelCheckpoint(\n",
        "    filepath=checkpoint_prefix,\n",
        "    save_weights_only=True)"
      ]
    },
    {
      "cell_type": "code",
      "execution_count": 64,
      "metadata": {
        "id": "w4E1HyIqd_-s"
      },
      "outputs": [],
      "source": [
        "EPOCHS = 20"
      ]
    },
    {
      "cell_type": "code",
      "execution_count": 65,
      "metadata": {
        "id": "0lVedJ16eBHP",
        "colab": {
          "base_uri": "https://localhost:8080/"
        },
        "outputId": "fd420ede-f527-4266-d02a-01d54ccbf39a"
      },
      "outputs": [
        {
          "output_type": "stream",
          "name": "stdout",
          "text": [
            "Epoch 1/20\n",
            "172/172 [==============================] - 16s 57ms/step - loss: 2.7293\n",
            "Epoch 2/20\n",
            "172/172 [==============================] - 12s 55ms/step - loss: 1.9933\n",
            "Epoch 3/20\n",
            "172/172 [==============================] - 11s 56ms/step - loss: 1.7140\n",
            "Epoch 4/20\n",
            "172/172 [==============================] - 11s 56ms/step - loss: 1.5538\n",
            "Epoch 5/20\n",
            "172/172 [==============================] - 11s 57ms/step - loss: 1.4549\n",
            "Epoch 6/20\n",
            "172/172 [==============================] - 11s 57ms/step - loss: 1.3860\n",
            "Epoch 7/20\n",
            "172/172 [==============================] - 12s 57ms/step - loss: 1.3334\n",
            "Epoch 8/20\n",
            "172/172 [==============================] - 12s 58ms/step - loss: 1.2893\n",
            "Epoch 9/20\n",
            "172/172 [==============================] - 11s 58ms/step - loss: 1.2489\n",
            "Epoch 10/20\n",
            "172/172 [==============================] - 12s 58ms/step - loss: 1.2104\n",
            "Epoch 11/20\n",
            "172/172 [==============================] - 12s 57ms/step - loss: 1.1712\n",
            "Epoch 12/20\n",
            "172/172 [==============================] - 12s 58ms/step - loss: 1.1307\n",
            "Epoch 13/20\n",
            "172/172 [==============================] - 11s 57ms/step - loss: 1.0885\n",
            "Epoch 14/20\n",
            "172/172 [==============================] - 12s 57ms/step - loss: 1.0421\n",
            "Epoch 15/20\n",
            "172/172 [==============================] - 12s 58ms/step - loss: 0.9953\n",
            "Epoch 16/20\n",
            "172/172 [==============================] - 12s 58ms/step - loss: 0.9442\n",
            "Epoch 17/20\n",
            "172/172 [==============================] - 11s 57ms/step - loss: 0.8922\n",
            "Epoch 18/20\n",
            "172/172 [==============================] - 11s 57ms/step - loss: 0.8391\n",
            "Epoch 19/20\n",
            "172/172 [==============================] - 12s 56ms/step - loss: 0.7871\n",
            "Epoch 20/20\n",
            "172/172 [==============================] - 12s 57ms/step - loss: 0.7383\n"
          ]
        }
      ],
      "source": [
        "history = model.fit(dataset, epochs=EPOCHS, callbacks=[checkpoint_callback])"
      ]
    },
    {
      "cell_type": "markdown",
      "metadata": {
        "id": "CUOOaksFauJC"
      },
      "source": [
        "### **Generate Teks**"
      ]
    },
    {
      "cell_type": "code",
      "execution_count": 66,
      "metadata": {
        "id": "niRvXYX3eCp7"
      },
      "outputs": [],
      "source": [
        "class OneStep(tf.keras.Model):\n",
        "  def __init__(self, model, chars_from_ids, ids_from_chars, temperature=1.0):\n",
        "    super().__init__()\n",
        "    self.temperature = temperature\n",
        "    self.model = model\n",
        "    self.chars_from_ids = chars_from_ids\n",
        "    self.ids_from_chars = ids_from_chars\n",
        "\n",
        "    # Create a mask to prevent \"[UNK]\" from being generated.\n",
        "    skip_ids = self.ids_from_chars(['[UNK]'])[:, None]\n",
        "    sparse_mask = tf.SparseTensor(\n",
        "        # Put a -inf at each bad index.\n",
        "        values=[-float('inf')]*len(skip_ids),\n",
        "        indices=skip_ids,\n",
        "        # Match the shape to the vocabulary\n",
        "        dense_shape=[len(ids_from_chars.get_vocabulary())])\n",
        "    self.prediction_mask = tf.sparse.to_dense(sparse_mask)\n",
        "\n",
        "  @tf.function\n",
        "  def generate_one_step(self, inputs, states=None):\n",
        "    # Convert strings to token IDs.\n",
        "    input_chars = tf.strings.unicode_split(inputs, 'UTF-8')\n",
        "    input_ids = self.ids_from_chars(input_chars).to_tensor()\n",
        "\n",
        "    # Run the model.\n",
        "    # predicted_logits.shape is [batch, char, next_char_logits]\n",
        "    predicted_logits, states = self.model(inputs=input_ids, states=states,\n",
        "                                          return_state=True)\n",
        "    # Only use the last prediction.\n",
        "    predicted_logits = predicted_logits[:, -1, :]\n",
        "    predicted_logits = predicted_logits/self.temperature\n",
        "    # Apply the prediction mask: prevent \"[UNK]\" from being generated.\n",
        "    predicted_logits = predicted_logits + self.prediction_mask\n",
        "\n",
        "    # Sample the output logits to generate token IDs.\n",
        "    predicted_ids = tf.random.categorical(predicted_logits, num_samples=1)\n",
        "    predicted_ids = tf.squeeze(predicted_ids, axis=-1)\n",
        "\n",
        "    # Convert from token ids to characters\n",
        "    predicted_chars = self.chars_from_ids(predicted_ids)\n",
        "\n",
        "    # Return the characters and model state.\n",
        "    return predicted_chars, states"
      ]
    },
    {
      "cell_type": "code",
      "execution_count": 68,
      "metadata": {
        "id": "2E2nadAreFOc"
      },
      "outputs": [],
      "source": [
        "one_step_model = OneStep(model, chars_from_ids, ids_from_chars)"
      ]
    },
    {
      "cell_type": "code",
      "execution_count": 69,
      "metadata": {
        "id": "jyAP3ykneGgD",
        "colab": {
          "base_uri": "https://localhost:8080/"
        },
        "outputId": "a6c1fccd-65bd-4347-a471-aa3cdff4e254"
      },
      "outputs": [
        {
          "output_type": "stream",
          "name": "stdout",
          "text": [
            "ROMEO:\n",
            "Go more, Lancaster?\n",
            "\n",
            "Nurse:\n",
            "What's this?\n",
            "\n",
            "JULIET:\n",
            "I pray you all the scene you are behelds.\n",
            "\n",
            "HENRY GOLINE:\n",
            "He will eat at this that I cersan.\n",
            "\n",
            "LEONTES:\n",
            "Stand not\n",
            "Now we'll fest in perfect love indeed and\n",
            "send for our here tombries in'd.\n",
            "\n",
            "GRUMIO:\n",
            "You give me toward: he in the absence of these senses\n",
            "Old wish the crush and time will have a touch of eyes.\n",
            "\n",
            "KING RICHARD II:\n",
            "Come, be gone, you give me one by me;\n",
            "his call advancemned pattern, or else a groan\n",
            "Apoint to hide years of what myself have\n",
            "laid in absence. To your hand,\n",
            "Thou weep'st me in his land was done with the happy phed\n",
            "so? if you were born best you at my memory.\n",
            "\n",
            "LORDSS:\n",
            "He's sent a fellow; but of a gloring favour\n",
            "Would you be seen.\n",
            "\n",
            "First Citizen:\n",
            "Come, coward! O woful tauchel people shows, but as a nuch\n",
            "despair no ligit to the matter: the wish\n",
            "We should eyes, calling but a deal too,\n",
            "Who is tos that banish'd Henry lies in free,\n",
            "Which once thou canst always but ever unstone that speak;\n",
            "And see him save the broken health of g \n",
            "\n",
            "________________________________________________________________________________\n",
            "\n",
            "Run time: 5.383571147918701\n"
          ]
        }
      ],
      "source": [
        "start = time.time()\n",
        "states = None\n",
        "next_char = tf.constant(['ROMEO:'])\n",
        "result = [next_char]\n",
        "\n",
        "for n in range(1000):\n",
        "  next_char, states = one_step_model.generate_one_step(next_char, states=states)\n",
        "  result.append(next_char)\n",
        "\n",
        "result = tf.strings.join(result)\n",
        "end = time.time()\n",
        "print(result[0].numpy().decode('utf-8'), '\\n\\n' + '_'*80)\n",
        "print('\\nRun time:', end - start)"
      ]
    },
    {
      "cell_type": "code",
      "execution_count": 70,
      "metadata": {
        "id": "G7rTOa1peH3H",
        "colab": {
          "base_uri": "https://localhost:8080/"
        },
        "outputId": "521274f6-0d0b-4e28-95cf-5ec51341fa1d"
      },
      "outputs": [
        {
          "output_type": "stream",
          "name": "stdout",
          "text": [
            "tf.Tensor(\n",
            "[b\"ROMEO:\\nWhat is that will I was here? Where is that tomb'd that?\\n\\nBRUTUS:\\nWhile weNe my woes can sent\\nThe proud tedious I attle sens.\\nIt is not so good deed; no doubt, sir.\\n\\nLADY ANNE:\\nWho gives not so, or love me that the east news.\\n\\nFRIAR PETER:\\nBlind from my husband, yet my Lord Kates in the mine.\\n\\nEXTON:\\nGrank'st thy effect any of your knees, and more, how buy forced?\\nIf thou hadst cush out your person pound at speech\\nThat spirit, madam, between me up host and\\nso by that hoped.\\n\\nBIONDELLO:\\nFaith, no honest and obher, dear sir,\\nRefuss his free spleck for, as yourself settled,\\nIf not, my lord, the king's soon give the people\\nAnd that all speed to Bennother; no more.\\n\\nCORIOLANUS:\\nI would he cannot be married. What from my lovely queen,\\nHevevary and Warwick or objects?\\nFor faith have loved my brother hath.\\n\\nLADY ANNE:\\nHow dost thou every chamber? knew not how to God please you,\\niccling it well. But thou shouldst be hewn up,\\nOr, if our people bring me I should luck'd\\nUp the redignt of incordog\"\n",
            " b\"ROMEO:\\nGood my lord, I'll you good deed. Our hope is vain.\\nUngive thee shilling sufferance!\\n\\nFirst Gentleman:\\nThou art: alas, to the napelusia stoop shall show must\\nIn to the king.\\n\\nANGELO:\\nNay, come, we must believe it, Henry, bend others in your care.\\n\\nGaoler:\\nAnd, lord, I wooe, and wash his choler.\\n\\nCORIOLANUS:\\nHow! good morrow and your sheep-so thanks?\\nAnd I will have that a coverture.\\n\\nTRANIO:\\nThat's a good marriage, yet it does many foes,\\nAin to you, dost thou knowest, to grise unto:\\nI knew she and womanish; and yet, being aboard\\nTheir surerbring win the royalty of a fite:\\nSome wit is calmed stone, desire to look on.\\n\\nFirst Servingman:\\nA heavenly and yours, and very good deed! I have,\\nGive moderal husband, and, so once again behold, and is it\\nTransported that there object thy supper,\\nMight stuel to see.\\n\\nPOLIXENES:\\nHow far officion will think the poor herself\\nFall'st obders: therefore I'll answer it.\\nI knew thy beauty till my fair state.'\\n\\nKING EDWARD IV:\\nIs this we are old Antong, wil\"\n",
            " b\"ROMEO:\\nWhat, noble and old Arreason! master! humbly could lift\\nfull mutinies? Masters, go and he looks cheers to meet me:\\nOf all, and gentlemen, look not how to\\nnoble in any of your great discretion, be beloved,\\nAs if she may poor tradies: what noise That by defend;\\nI did in such mannembers being can blame her liberty.\\n\\nCLARENCE:\\nNo; I will look on me: cousin, on given! noteded Capulet!\\nMy noble service and your purposess thou,\\nThat runst and name of here, tribles my person: is he\\nstraws, 'twas well proclaimed men; also-morrow's death!\\nO, that's true end, for us the first\\nThat kiss what trudious question more.\\nHow now! what bosoms great in\\na motel of officer, because\\nThe noble Duke of Clarence, now thy tears?\\nWhat with she would escape from Warwick and his love\\nUnseevick, best be true that had hid used to point.\\n\\nLUCIO:\\n'Tis this favour and My stirr'd up.\\nHere's no health, will call her an usurp'd.\\n\\nKING HENRY VI:\\nAy, and the tempted order, think'st thou. Woo hence!\\nBeseech you, sir, to have\"\n",
            " b\"ROMEO:\\nWhat's there?\\n\\nKING HENRY VI:\\nFor our enrich yet smile in safety of all speed;\\nThe true sprites, or strokes with more strength,\\nAnd supperul in her best he did recompen ence.\\nA combat battle shall authority be thou so?\\nNay, let me sit in safety rightly\\nA fell and that with care.\\n\\nFirst Citizen:\\nWe have been stout so much to have reason;\\nFor making might be a spiciol: is't send\\nLein'd in bloody and to their attention.\\n\\nFirst Gentleman:\\n'Twas ever was his motion against the death.\\n\\nBUCKINGHAM:\\nGentlewomen was homped im to wed the ground\\nAnd cannot tell my tekes sick, not with vowd as I have it to.\\n\\nKING RICHARD II:\\nWell sad I sent to-night.\\n\\nBRUTUS:\\nSir, that's by much constable;\\nAnd, with fivil and exile! are you a pale, like mine!\\n\\nKING RICHARD II:\\nWell at the least. But if it pleaseth to have:\\nYea, as he very sanctude, or nate,\\nPash and for which you had forgot;'\\nquoth seen, Patience; you grow to pass for compliment;\\nOf this sweet birth. But wilt thou lie almost be it?\\n\\nCitizens:\\nYou\"\n",
            " b\"ROMEO:\\nI do beseech you, Lady,\\nBe so still. This is the laws rejoated. Madam, betray't:\\nBecause have learn'd the king at Kate.\\n\\nBRUTUS:\\nI will, my Lord of Norforch, to your youngest deserve\\nTo some dismbest serve fast; come, well commits'd.\\n\\nSecond Servingman:\\nWhy, Camillo's house, make hasty answer to him.\\nBut, foolish bran, bold perbares! from you, fellow! you have on\\nthemselves? how should you be medined!\\n\\nJULIET:\\nYe' name let me be pity tale, my mother,\\nHave I open, truth to bitterly cell retort\\nSame tomenhom in doen-face to forfect other business\\nI woo delived. Then, enjoy't, too,\\nFor many but though it said so, Pempetition,\\nBut my sister Baptista more slain,\\nHis health and all those two deviars to light,\\nVeeping to most sire, to my kingly true,\\nMy word lord and the deep times letters of the report;\\nAxace you knew by the last of a tower in brood.\\nAnd as I lightly vengeance on thy daughters, will they\\ncome as as I be perdened, it is no sin is limit,\\nAnd from London tried 'tispairing ligh\"], shape=(5,), dtype=string) \n",
            "\n",
            "________________________________________________________________________________\n",
            "\n",
            "Run time: 5.617761611938477\n"
          ]
        }
      ],
      "source": [
        "start = time.time()\n",
        "states = None\n",
        "next_char = tf.constant(['ROMEO:', 'ROMEO:', 'ROMEO:', 'ROMEO:', 'ROMEO:'])\n",
        "result = [next_char]\n",
        "\n",
        "for n in range(1000):\n",
        "  next_char, states = one_step_model.generate_one_step(next_char, states=states)\n",
        "  result.append(next_char)\n",
        "\n",
        "result = tf.strings.join(result)\n",
        "end = time.time()\n",
        "print(result, '\\n\\n' + '_'*80)\n",
        "print('\\nRun time:', end - start)"
      ]
    },
    {
      "cell_type": "markdown",
      "metadata": {
        "id": "TuAtIviIauRZ"
      },
      "source": [
        "### **Ekspor Model Generator**"
      ]
    },
    {
      "cell_type": "code",
      "execution_count": 71,
      "metadata": {
        "id": "spcp-WsueJYl",
        "colab": {
          "base_uri": "https://localhost:8080/"
        },
        "outputId": "a5557c88-e27b-452e-b313-70c739e55a34"
      },
      "outputs": [
        {
          "output_type": "stream",
          "name": "stderr",
          "text": [
            "WARNING:tensorflow:Skipping full serialization of Keras layer <__main__.OneStep object at 0x7cdf4d40bbb0>, because it is not built.\n",
            "WARNING:tensorflow:Model's `__init__()` arguments contain non-serializable objects. Please implement a `get_config()` method in the subclassed Model for proper saving and loading. Defaulting to empty config.\n",
            "WARNING:tensorflow:Model's `__init__()` arguments contain non-serializable objects. Please implement a `get_config()` method in the subclassed Model for proper saving and loading. Defaulting to empty config.\n"
          ]
        }
      ],
      "source": [
        "tf.saved_model.save(one_step_model, 'one_step')\n",
        "one_step_reloaded = tf.saved_model.load('one_step')"
      ]
    },
    {
      "cell_type": "code",
      "execution_count": 72,
      "metadata": {
        "id": "IPkv-7vEeKO-",
        "colab": {
          "base_uri": "https://localhost:8080/"
        },
        "outputId": "a905761c-b8ba-4c14-cda0-0ac8faf8afb4"
      },
      "outputs": [
        {
          "output_type": "stream",
          "name": "stdout",
          "text": [
            "ROMEO:\n",
            "What were you good?\n",
            "\n",
            "Moster:\n",
            "If ever I like near ye;\n",
            "Tear to this very trick upon the way our books\n"
          ]
        }
      ],
      "source": [
        "states = None\n",
        "next_char = tf.constant(['ROMEO:'])\n",
        "result = [next_char]\n",
        "\n",
        "for n in range(100):\n",
        "  next_char, states = one_step_reloaded.generate_one_step(next_char, states=states)\n",
        "  result.append(next_char)\n",
        "\n",
        "print(tf.strings.join(result)[0].numpy().decode(\"utf-8\"))"
      ]
    },
    {
      "cell_type": "markdown",
      "metadata": {
        "id": "axfN-Ao3Wlj8"
      },
      "source": [
        "## **Tugas**"
      ]
    },
    {
      "cell_type": "code",
      "execution_count": null,
      "metadata": {
        "id": "r8MR6owrWTcM"
      },
      "outputs": [],
      "source": []
    }
  ],
  "metadata": {
    "colab": {
      "provenance": [],
      "gpuType": "T4",
      "authorship_tag": "ABX9TyM5jHwG2VhjN6+Fsow0nvGJ",
      "include_colab_link": true
    },
    "kernelspec": {
      "display_name": "Python 3",
      "name": "python3"
    },
    "language_info": {
      "name": "python"
    },
    "accelerator": "GPU"
  },
  "nbformat": 4,
  "nbformat_minor": 0
}